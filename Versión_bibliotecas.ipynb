{
  "nbformat": 4,
  "nbformat_minor": 0,
  "metadata": {
    "colab": {
      "name": "Versión_bibliotecas.ipynb",
      "provenance": []
    },
    "kernelspec": {
      "display_name": "Python 3",
      "language": "python",
      "name": "python3"
    },
    "language_info": {
      "codemirror_mode": {
        "name": "ipython",
        "version": 3
      },
      "file_extension": ".py",
      "mimetype": "text/x-python",
      "name": "python",
      "nbconvert_exporter": "python",
      "pygments_lexer": "ipython3",
      "version": "3.6.5"
    }
  },
  "cells": [
    {
      "cell_type": "code",
      "metadata": {
        "colab": {
          "base_uri": "https://localhost:8080/"
        },
        "id": "kffSOYcgir5Q",
        "outputId": "c38d3a28-ca72-40be-a2aa-871cbbadde42"
      },
      "source": [
        "import pandas, numpy, scipy, statsmodels, seaborn, matplotlib\n",
        "\n",
        "print('Versión de pandas -> %s' % pandas.__version__)\n",
        "print('Versión de numpy -> %s' % numpy.__version__)\n",
        "print('Versión de scipy -> %s' % scipy.__version__)\n",
        "print('Versión de statsmodels -> %s' % statsmodels.__version__)\n",
        "print('Versión de seaborn -> %s' % seaborn.__version__)\n",
        "print('Versión de matplotlib -> %s' % matplotlib.__version__)"
      ],
      "execution_count": 2,
      "outputs": [
        {
          "output_type": "stream",
          "text": [
            "Versión de pandas -> 1.1.4\n",
            "Versión de numpy -> 1.18.5\n",
            "Versión de scipy -> 1.4.1\n",
            "Versión de statsmodels -> 0.10.2\n",
            "Versión de seaborn -> 0.11.0\n",
            "Versión de matplotlib -> 3.2.2\n"
          ],
          "name": "stdout"
        }
      ]
    },
    {
      "cell_type": "code",
      "metadata": {
        "id": "bcAPEvyqjJCx"
      },
      "source": [
        ""
      ],
      "execution_count": null,
      "outputs": []
    }
  ]
}