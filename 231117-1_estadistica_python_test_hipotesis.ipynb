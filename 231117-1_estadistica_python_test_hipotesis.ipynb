{
  "nbformat": 4,
  "nbformat_minor": 0,
  "metadata": {
    "colab": {
      "name": "Curso_de_Estadística_Parte_3.ipynb",
      "provenance": [],
      "collapsed_sections": [
        "cVgsZ_E3jQKg",
        "nk65O0lepz57",
        "miGOADKYpsjn",
        "L7_ZbBBtpslb",
        "IEHa9ZC_psl8"
      ],
      "toc_visible": true
    },
    "kernelspec": {
      "display_name": "Python 3",
      "language": "python",
      "name": "python3"
    },
    "language_info": {
      "codemirror_mode": {
        "name": "ipython",
        "version": 3
      },
      "file_extension": ".py",
      "mimetype": "text/x-python",
      "name": "python",
      "nbconvert_exporter": "python",
      "pygments_lexer": "ipython3",
      "version": "3.6.5"
    }
  },
  "cells": [
    {
      "cell_type": "markdown",
      "metadata": {
        "id": "WvMflodMjQKe"
      },
      "source": [
        "# <font color=green size=10>CURSO DE ESTADÍSTICA - PARTE 3</font>\n",
        "\n",
        "***"
      ]
    },
    {
      "cell_type": "markdown",
      "metadata": {
        "id": "cVgsZ_E3jQKg"
      },
      "source": [
        "# <font color=green>1. DESCRIPCIÓN Y LECTURA DE LOS DATOS</font>\n",
        "***"
      ]
    },
    {
      "cell_type": "markdown",
      "metadata": {
        "id": "TDjqYYNojQKh"
      },
      "source": [
        "**Encuesta Nacional de Hogares -- 2015** \n"
      ]
    },
    {
      "cell_type": "markdown",
      "metadata": {
        "id": "iN1gIbaKjQKh"
      },
      "source": [
        "La <b> Encuesta Nacional de Hogares (PNDA, del portugués Pesquisa Nacional por Amostra de Domicílios)</b> anualmente investiga, de forma permanente, las características generales de la población, educación, trabajo, ingresos y vivienda, y otras con frecuencia variable, de acuerdo con las necesidades de información del país, tales como las características de migración, fecundidad, nupcialidad, salud, seguridad alimentaria, entre otros temas. La recopilación de estas estadísticas constituye, durante los 49 años de realización de la investigación, **un importante instrumento para la formulación, validación y evaluación de políticas orientadas al desarrollo socioeconómico y a la mejora de las condiciones de vida en Brasil**."
      ]
    },
    {
      "cell_type": "markdown",
      "metadata": {
        "id": "U6V7br1RjQKi"
      },
      "source": [
        "## Fuente\n"
      ]
    },
    {
      "cell_type": "markdown",
      "metadata": {
        "id": "FRjjSwjdvBbp"
      },
      "source": [
        "https://www.ibge.gov.br/estatisticas/sociais/populacao/9127-pesquisa-nacional-por-amostra-de-domicilios.html?=&t=microdados\n"
      ]
    },
    {
      "cell_type": "markdown",
      "metadata": {
        "id": "xkJqd7RwoGiN"
      },
      "source": [
        "## Variables"
      ]
    },
    {
      "cell_type": "markdown",
      "metadata": {
        "id": "r0Fe_qnzjQKj"
      },
      "source": [
        "\n",
        "> ### Renta \n",
        "> ***\n",
        "\n",
        "Ingreso mensual del jefe del hogar.\n",
        "\n",
        "> ### Edad\n",
        "> ***\n",
        "\n",
        "Edad (en años) del jefe del hogar.\n",
        "\n",
        "> ### Altura (construida)\n",
        "> ***\n",
        "\n",
        "Altura (en metros) del jefe del hogar.\n",
        "\n",
        "> ### UF (Unidad de federación)\n",
        "> ***\n",
        "\n",
        "|Código|Descripción|\n",
        "|---|---|\n",
        "|11|Rondônia|\n",
        "|12|Acre|\n",
        "|13|Amazonas|\n",
        "|14|Roraima|\n",
        "|15|Pará|\n",
        "|16|Amapá|\n",
        "|17|Tocantins|\n",
        "|21|Maranhão|\n",
        "|22|Piauí|\n",
        "|23|Ceará|\n",
        "|24|Rio Grande do Norte|\n",
        "|25|Paraíba|\n",
        "|26|Pernambuco|\n",
        "|27|Alagoas|\n",
        "|28|Sergipe|\n",
        "|29|Bahia|\n",
        "|31|Minas Gerais|\n",
        "|32|Espírito Santo|\n",
        "|33|Rio de Janeiro|\n",
        "|35|São Paulo|\n",
        "|41|Paraná|\n",
        "|42|Santa Catarina|\n",
        "|43|Rio Grande do Sul|\n",
        "|50|Mato Grosso do Sul|\n",
        "|51|Mato Grosso|\n",
        "|52|Goiás|\n",
        "|53|Distrito Federal|\n",
        "\n",
        "> ### Sexo\t\n",
        "> ***\n",
        "\n",
        "|Código|Descripción|\n",
        "|---|---|\n",
        "|0|Masculino|\n",
        "|1|Femenino|\n",
        "\n",
        "> ### Años de estudio\n",
        "> ***\n",
        "\n",
        "|Código|Descripción|\n",
        "|---|---|\n",
        "|1|Sin instrucción o menos de 1 año|\n",
        "|2|1 año|\n",
        "|3|2 años|\n",
        "|4|3 años|\n",
        "|5|4 años|\n",
        "|6|5 años|\n",
        "|7|6 años|\n",
        "|8|7 años|\n",
        "|9|8 años|\n",
        "|10|9 años|\n",
        "|11|10 años|\n",
        "|12|11 años|\n",
        "|13|12 años|\n",
        "|14|13 años|\n",
        "|15|14 años|\n",
        "|16|15 años o más|\n",
        "|17|No determinados| \n",
        "||No aplica|\n",
        "\n",
        "> ### Color \n",
        "> ***\n",
        "\n",
        "|Código|Descripción|\n",
        "|---|---|\n",
        "|0|Indigena|\n",
        "|2|Blanca|\n",
        "|4|Negra|\n",
        "|6|Amarilla|\n",
        "|8|Parda|\n",
        "|9|Sin declaración|"
      ]
    },
    {
      "cell_type": "markdown",
      "metadata": {
        "id": "OK1IQH5cX7Gb"
      },
      "source": [
        "<font color='red'>Observación</font>\n",
        "***\n",
        "> Se realizaron los siguientes tratamientos sobre los datos originales:\n",
        "> 1. Se eliminaron los registros en los que la <b>Renta</b> no era válida (999 999 999 999);\n",
        "> 2. Se eliminaron los registros en los que la <b>Renta</b> era missing;\n",
        "> 3. Sólo se consideraron los registros de las  <b>personas de referencia</b> de cada hogar (responsables del hogar)."
      ]
    },
    {
      "cell_type": "markdown",
      "metadata": {
        "id": "8Rw70V6ojQKk"
      },
      "source": [
        "## Importando Bibliotecas y leyendo la base de datos\n",
        "\n",
        "https://pandas.pydata.org/"
      ]
    },
    {
      "cell_type": "code",
      "metadata": {
        "id": "N7g1I3sFtsI0"
      },
      "source": [
        ""
      ],
      "execution_count": null,
      "outputs": []
    },
    {
      "cell_type": "code",
      "metadata": {
        "id": "_8WyYZ1Vtrcu"
      },
      "source": [
        ""
      ],
      "execution_count": null,
      "outputs": []
    },
    {
      "cell_type": "code",
      "metadata": {
        "id": "rBy7hxMXtrI1"
      },
      "source": [
        ""
      ],
      "execution_count": null,
      "outputs": []
    },
    {
      "cell_type": "markdown",
      "metadata": {
        "id": "LR81wvaQzKFb"
      },
      "source": [
        "## Algunas preguntas que pueden ser de interés\n",
        "> 1. ¿La variable altura se distribuye como una normal? \n",
        "> 2. ¿Los jefes del hogar tienen en promedio 1,70 cm de altura?\n",
        "> 3. ¿Las mujeres ganan menos que los hombres?"
      ]
    },
    {
      "cell_type": "markdown",
      "metadata": {
        "id": "nk65O0lepz57"
      },
      "source": [
        "# <font color=green>2. PRUEBA DE HIPÓTESIS</font>\n",
        "\n",
        "***"
      ]
    },
    {
      "cell_type": "markdown",
      "metadata": {
        "id": "OjHpQHFHpsi3"
      },
      "source": [
        "Una prueba de hipótesis estadística es un procedimiento que permite decidir entre dos hipótesis opuestas: <b>Hipótesis nula</b> $(H_0)$  y la <b>Hipótesis alterna</b> $(H_1)$, las cuales conjeturan sobre alguna caraterística desconocida de la población de interés.\n",
        "\n",
        "Para realizar este procedimiento se retira una muestra aleatoria de la población bajo estudio y con base en las evidencias de esa muestra se toma la decisión de rechazar o no rechazar $H_0$.<font color='red'> Note que la decisión es sobre $H_0$</font>! \n"
      ]
    },
    {
      "cell_type": "markdown",
      "metadata": {
        "id": "-SudJslWB7iX"
      },
      "source": [
        "## **Entendiendo $H_0$ y $H_1$**\n",
        "Considere que hay una persona que está siendo juzgada.\n",
        "\n",
        "\n"
      ]
    },
    {
      "cell_type": "markdown",
      "metadata": {
        "id": "whFfEMN7JSjz"
      },
      "source": [
        "$H_0$:  La persona es **inocente**.\n",
        "\n",
        "$H_1$: La persona es **culpable**.\n"
      ]
    },
    {
      "cell_type": "markdown",
      "metadata": {
        "id": "bS0h3RoiDC-S"
      },
      "source": [
        "## **Errores Inferenciales**\n",
        "\n",
        "Un proceso inferencial siempre se encuentra sujeto a errores. \n",
        "\n",
        "\n",
        "\n"
      ]
    },
    {
      "cell_type": "markdown",
      "metadata": {
        "id": "WuqNaK8LJHSm"
      },
      "source": [
        " <b>Error Tipo I</b>: Rechazar $H_0$ siendo $H_0$ verdadera. \n",
        "\n",
        "> *Ejemplo: La persona es condenada a pesar de que realmente inocente*.\n",
        "\n",
        "\n",
        "\n",
        " <b>Error Tipo II</b>: No rechazar $H_0$ siendo $H_0$ falsa.\n",
        "\n",
        ">*Ejemplo: La persona es absuelta a pesar de ser culpable*.\n",
        "\n",
        "\n",
        " "
      ]
    },
    {
      "cell_type": "markdown",
      "metadata": {
        "id": "WQRkTtEGvb4h"
      },
      "source": [
        "<b>Notación de los errores </b>\n",
        "\n",
        "P(Error Tipo I) = $\\alpha$  (<b>Nivel de significancia </b>)\n",
        "\n",
        "P(Error Tipo II) = $\\beta$, (siendo $1-\\beta$ la <b>Potencia</b> )\n"
      ]
    },
    {
      "cell_type": "markdown",
      "metadata": {
        "id": "qYs6fFSVouVu"
      },
      "source": [
        "El objetivo principal es proponer algún procedimiento de prueba de hipótesis que minimice los dos errores. Sin embargo, **en la práctica, solo se controla el error de tipo I** y generalmente su probabilidad es fijada en 0,05 o 0,01."
      ]
    },
    {
      "cell_type": "markdown",
      "metadata": {
        "id": "eVEPJhlfEvDS"
      },
      "source": [
        "## **Criterio para decidir si se rechaza o no $H_0$**\n",
        "\n",
        "\n"
      ]
    },
    {
      "cell_type": "markdown",
      "metadata": {
        "id": "ke0z42iIJinn"
      },
      "source": [
        "<b>Región Crítica</b>: Valores de la **estadística de prueba** que conllevan al rechazo de $H_0$.\n",
        "\n",
        "<b>$p$-valor</b>: Menor nivel de significancia con el cuál rechazamos $H_0$ siendo aplicado después que el experimento fue realizado. \n",
        ">- Si $p$-valor $\\leq \\alpha$ rechazamos $H_0$.\n",
        "\n",
        ">- Si $p$-valor $> \\alpha$ no rechazamos $H_0$.\n"
      ]
    },
    {
      "cell_type": "markdown",
      "metadata": {
        "id": "qjqWccNspsi4"
      },
      "source": [
        "## <font color=green>2.1 Prueba de normalidad </font>\n",
        "\n",
        "***\n",
        "\n",
        "\n",
        "¿La variable altura se distribuye como una normal?\n",
        "\n"
      ]
    },
    {
      "cell_type": "markdown",
      "metadata": {
        "id": "shcF28ToEGPQ"
      },
      "source": [
        "**Es una prueba que nos permite determinar si un conjunto de datos proviene o no de una distribución normal.**"
      ]
    },
    {
      "cell_type": "markdown",
      "metadata": {
        "id": "gcHgRPBpLHX6"
      },
      "source": [
        "Hipótesis de interés\n",
        "\n",
        "$H_0$:  La muestra proviene de una distribución normal.\n",
        "\n",
        "$H_1$: La muestra no proviene de una distribución normal."
      ]
    },
    {
      "cell_type": "markdown",
      "metadata": {
        "id": "J31EXO9lMd9P"
      },
      "source": [
        "**Importando biblioteca**\n",
        "\n",
        "https://docs.scipy.org/doc/scipy/reference/generated/scipy.stats.normaltest.html"
      ]
    },
    {
      "cell_type": "code",
      "metadata": {
        "id": "qG1cQVnQtzx_"
      },
      "source": [
        ""
      ],
      "execution_count": null,
      "outputs": []
    },
    {
      "cell_type": "markdown",
      "metadata": {
        "id": "ZQGfD9ifO8bs"
      },
      "source": [
        "La función **normaltest** prueba la hipótesis nula $H_0$ de que la muestra proviene de una distribución normal."
      ]
    },
    {
      "cell_type": "markdown",
      "metadata": {
        "id": "fKqpcVpyNiLz"
      },
      "source": [
        "<font color='red'>Rechazamos $H_0$ si el $p$-valor $\\leq \\alpha$.</font>\n"
      ]
    },
    {
      "cell_type": "markdown",
      "metadata": {
        "id": "6lCzBcsmaVNh"
      },
      "source": [
        "Fijando el nivel de significancia $(\\alpha)$"
      ]
    },
    {
      "cell_type": "code",
      "metadata": {
        "id": "XPSlrjbft4Ii"
      },
      "source": [
        ""
      ],
      "execution_count": null,
      "outputs": []
    },
    {
      "cell_type": "markdown",
      "metadata": {
        "id": "wQ3mdZEHOYab"
      },
      "source": [
        "### **Probando normalidad en la variable Renta**"
      ]
    },
    {
      "cell_type": "markdown",
      "metadata": {
        "id": "7xhDGL5sTvaC"
      },
      "source": [
        "**Inspección visual**"
      ]
    },
    {
      "cell_type": "code",
      "metadata": {
        "id": "48P2TZMTt6U7"
      },
      "source": [
        ""
      ],
      "execution_count": null,
      "outputs": []
    },
    {
      "cell_type": "markdown",
      "metadata": {
        "id": "T_uv9nc4T2uZ"
      },
      "source": [
        "**Establecemos las hipótesis**"
      ]
    },
    {
      "cell_type": "markdown",
      "metadata": {
        "id": "OFCtdVaDU08Y"
      },
      "source": [
        "$H_0$:  La muestra de la renta de los jefes del hogar proviene de una distribución normal.\n",
        "\n",
        "$H_1$: La muestra de la renta de los jefes del hogar no proviene de una distribución normal.\n",
        "\n"
      ]
    },
    {
      "cell_type": "code",
      "metadata": {
        "id": "BcK-3toWt8VI"
      },
      "source": [
        ""
      ],
      "execution_count": null,
      "outputs": []
    },
    {
      "cell_type": "code",
      "metadata": {
        "id": "hTbXjfE9t-mf"
      },
      "source": [
        ""
      ],
      "execution_count": null,
      "outputs": []
    },
    {
      "cell_type": "markdown",
      "metadata": {
        "id": "I-Xlk46vVs5C"
      },
      "source": [
        "<font color='red'> Rechazamos $H_0$ si el $p$-valor $\\leq \\alpha$ </font>"
      ]
    },
    {
      "cell_type": "code",
      "metadata": {
        "id": "Wf60vJu1uAn2"
      },
      "source": [
        ""
      ],
      "execution_count": null,
      "outputs": []
    },
    {
      "cell_type": "markdown",
      "metadata": {
        "id": "P6WAIe32BPgd"
      },
      "source": [
        "Observe que <font color='red'>$p-\\textrm{valor} \\leq \\alpha$</font>, por lo tanto tenemos suficiente evidencia en la muestra para <font color='red'>rechazar $H_0$</font>."
      ]
    },
    {
      "cell_type": "markdown",
      "metadata": {
        "id": "RdFCOdlLXXkD"
      },
      "source": [
        "<font color='blue'>**Conclusión:** Con un nivel de significancia del 5% podemos concluir que la muestra de la renta de los jefes del hogar NO proviene de una distribución normal.</font>"
      ]
    },
    {
      "cell_type": "markdown",
      "metadata": {
        "id": "7UCnRtdIYjyZ"
      },
      "source": [
        "### **Probando normalidad en la variable Altura**"
      ]
    },
    {
      "cell_type": "markdown",
      "metadata": {
        "id": "bkJDtZd3Yv3t"
      },
      "source": [
        "**Inspección visual**"
      ]
    },
    {
      "cell_type": "code",
      "metadata": {
        "id": "nurswaA-uDeO"
      },
      "source": [
        ""
      ],
      "execution_count": null,
      "outputs": []
    },
    {
      "cell_type": "markdown",
      "metadata": {
        "id": "Rg0WeKKsY5mL"
      },
      "source": [
        "**Establecemos las hipótesis**"
      ]
    },
    {
      "cell_type": "markdown",
      "metadata": {
        "id": "DjQHKvH7Y8i0"
      },
      "source": [
        "$H_0$:  La muestra de la altura de los jefes del hogar proviene de una distribución normal.\n",
        "\n",
        "$H_1$: La muestra de la altura de los jefes del hogar no proviene de una distribución normal."
      ]
    },
    {
      "cell_type": "code",
      "metadata": {
        "id": "HKWxQcQ3uFPT"
      },
      "source": [
        ""
      ],
      "execution_count": null,
      "outputs": []
    },
    {
      "cell_type": "code",
      "metadata": {
        "id": "iGcBbDqSuGft"
      },
      "source": [
        ""
      ],
      "execution_count": null,
      "outputs": []
    },
    {
      "cell_type": "markdown",
      "metadata": {
        "id": "DGrXlQwKZjOH"
      },
      "source": [
        "<font color='red'> Rechazamos $H_0$ si el $p$-valor $\\leq \\alpha$ </font>"
      ]
    },
    {
      "cell_type": "code",
      "metadata": {
        "id": "8SXAB4TbuIst"
      },
      "source": [
        ""
      ],
      "execution_count": null,
      "outputs": []
    },
    {
      "cell_type": "markdown",
      "metadata": {
        "id": "vr1BXwdPC-x6"
      },
      "source": [
        "Observe que <font color='red'>$p-\\textrm{valor} > \\alpha$</font>, por lo tanto NO tenemos suficiente evidencia en la muestra para rechazar $H_0$."
      ]
    },
    {
      "cell_type": "markdown",
      "metadata": {
        "id": "D-xzeF6jZxWZ"
      },
      "source": [
        "<font color='blue'>**Conclusión:** Con un nivel de significancia del 5% concluimos que la muestra de la altura de los jefes del hogar proviene de una distribución normal.</font>"
      ]
    },
    {
      "cell_type": "markdown",
      "metadata": {
        "id": "tZOLwQGWIJHf"
      },
      "source": [
        "## <font color=green>2.2 Pruebas de hipótesis para  parámetros </font>\n",
        "\n",
        "***"
      ]
    },
    {
      "cell_type": "markdown",
      "metadata": {
        "id": "h7tW10qUHYsi"
      },
      "source": [
        "¿Los jefes del hogar tienen una **altura promedio** de 1,70 cm?\n",
        "\n",
        "**Observe que el parámetro de interés es la média $(\\mu)$**"
      ]
    },
    {
      "cell_type": "markdown",
      "metadata": {
        "id": "BAW_fVwjZ7Yz"
      },
      "source": [
        "### **Conceptos importantes**"
      ]
    },
    {
      "cell_type": "markdown",
      "metadata": {
        "id": "0qmkSCQj-AF4"
      },
      "source": [
        "> <b>Estadística de prueba</b>: Es una estadística o variable aleatoria que se deriva del estimador puntual del parámetro de interés. En ella se comparan la hipótesis postulada y los datos observados. \n",
        "\n",
        "> <b> Región Crítica </b>: Los valores de la estadística de prueba que conllevan al rechazo de $H_0$.\n"
      ]
    },
    {
      "cell_type": "markdown",
      "metadata": {
        "id": "y5KC8T-zNM3Q"
      },
      "source": [
        "### **Etapas básicas de una prueba**"
      ]
    },
    {
      "cell_type": "markdown",
      "metadata": {
        "id": "HfYgLTWAND9k"
      },
      "source": [
        "**Paso 1: Establecer las hipótesis $H_0$ y $H_1$**;\n",
        "\n",
        " <font color='red'>Puntos importantes</font>\n",
        "> 1. **La afirmación o declaración sobre el parámetro poblacional** $(\\mu)$ y que en general es vinculada a un valor de referencia, o a una especificación estándar o histórica, debe ser formulada como **la hipótesis nula** $H_0$.\n",
        "> 2. De manera general, la afirmación sobre el parámetro poblacional $(\\mu)$ que **sospechamos que es verdadera**, debe ser formulada como **hipótesis alterna** $H_1$. \n",
        "> 3. Se pueden plantear las siguientes pruebas de hipótesis:\n",
        "\n",
        "> - Prueba de hipótesis <font color='red'>bilateral</b></font>\n",
        "$$\n",
        "\\begin{cases}\n",
        "H_0: \\mu = \\mu_0   \\\\\n",
        "H_1: \\mu \\neq  \\mu_0\n",
        "\\end{cases}\n",
        "$$\n",
        "\n",
        ">- Prueba de hipótesis <font color='red'>unilateral a derecha</font>\n",
        "$$\n",
        "\\begin{cases}\n",
        "H_0: \\mu \\leq \\mu_0   \\\\\n",
        "H_1: \\mu > \\mu_0\n",
        "\\end{cases}\n",
        "$$\n",
        "\n",
        "> - Prueba de hipótesis <font color='red'>unilateral a izquierda</font>\n",
        "$$\n",
        "\\begin{cases}\n",
        "H_0: \\mu \\geq \\mu_0   \\\\\n",
        "H_1: \\mu < \\mu_0\n",
        "\\end{cases}\n",
        "$$\n",
        "\n",
        "> 4. En una prueba de hipótesis bilateral, la región de no rechazo corresponde a un intervalo de confianza para el parámetro de interés."
      ]
    },
    {
      "cell_type": "markdown",
      "metadata": {
        "id": "L7hRU18yNSFH"
      },
      "source": [
        "**Paso 2: Fijar el nivel de significancia $(\\alpha)$ de la prueba**\n",
        "\n",
        "<font color='red'>Puntos importantes</font>\n",
        "> 1. El nivel de significancia $(\\alpha)$ es el tamaño de la región de rechazo.\n",
        "> 2. Los valores más frecuentes usados para $\\alpha$ son $1\\%$, $5\\%$ y $10\\%$\n",
        "> 3. El complemento de la región de rechazo $(1-\\alpha)$ corresponde al nivel de confianza.\n",
        "\n",
        "\n"
      ]
    },
    {
      "cell_type": "markdown",
      "metadata": {
        "id": "4HGoWAejhpbl"
      },
      "source": [
        "![Nivel de Significancia](https://caelum-online-public.s3.amazonaws.com/ESP-1778-estadistica-con-python-test-hipotesis/Nivel_Significancia_mu.png)"
      ]
    },
    {
      "cell_type": "markdown",
      "metadata": {
        "id": "zcLxQDjNUBUZ"
      },
      "source": [
        "**Paso 3: Determinar la distribución de muestreo y Estadística de Prueba adecuada**\n",
        "\n",
        "<font color='red'>Puntos importantes</font>\n",
        "> 1. Si la muestra aleatoria proviene de una **distribución normal con varianza conocida** $(\\sigma^2)$, la estadística de prueba es\n",
        "$$ Z = \\frac{\\overline{X} - \\mu_0}{\\sigma/\\sqrt{n}}  \\sim N(0,1),$$\n",
        "siendo $\\overline{X}$ la media muestra, $\\mu_0$ un valor de referencia.\n",
        "> 2. Si la muestra aleatoria proviene de una **distribución normal con varianza desconocida** $(\\sigma^2)$, la estadística de prueba es\n",
        "$$ T = \\frac{\\overline{X} - \\mu_0}{S/\\sqrt{n}}  \\sim t(n-1),$$\n",
        "donde $n-1$ son los grados de libertad de la distribución t-Student.\n",
        "> 3. Si no sabemos de que distribución proviene la muestra, pero $n$ es suficientemente grande $(n\\geq 30)$ podemos utilizar una de las estadística anteriores, conforme lo establece el teorema del límite central (TLC)\n",
        "> 4. Si no sabemos de que distribución proviene la muestra y $n$ es pequeño $(n<30)$ debemos aumentar el tamaño de la muestra o usar pruebas no paramétricas. \n",
        "\n",
        "\n",
        "\n",
        "\n"
      ]
    },
    {
      "cell_type": "markdown",
      "metadata": {
        "id": "gYPou8xqMdRW"
      },
      "source": [
        "<font color ='red'> Resumen </font>"
      ]
    },
    {
      "cell_type": "markdown",
      "metadata": {
        "id": "453rzdH_ikt8"
      },
      "source": [
        "![Resumen una media](https://caelum-online-public.s3.amazonaws.com/ESP-1778-estadistica-con-python-test-hipotesis/Resumen_mu.png)"
      ]
    },
    {
      "cell_type": "markdown",
      "metadata": {
        "id": "oaHjH0b0Tds7"
      },
      "source": [
        "**Paso 4: Determinar la Región crítica.**\n",
        "\n",
        "<font color='red'>Puntos importantes</font>\n",
        "> 1. La localización de la región crítica depende de la forma de la hipótesis alterna $(H_1)$.\n",
        "> 2. Si $H_1: \\mu \\neq \\mu_0$, la región crítica se divide en las dos colas de la distribución de la estadística de prueba, o sea que una parte estará en la cola derecha y la otra en la cola izquierda.\n",
        "> 3. Si $H_1: \\mu > \\mu_0$, la región crítica se encuentra en la cola derecha de la distribución de la estadística de prueba.  \n",
        "> 4.  Si $H_1: \\mu < \\mu_0$, la región crítica se encuentra en la cola izquierda de la distribución de la estadística de prueba.\n",
        "\n"
      ]
    },
    {
      "cell_type": "markdown",
      "metadata": {
        "id": "HiNjSN0vjG_p"
      },
      "source": [
        "![Region Critica una media](https://caelum-online-public.s3.amazonaws.com/ESP-1778-estadistica-con-python-test-hipotesis/Region_Critica_mu.png)"
      ]
    },
    {
      "cell_type": "markdown",
      "metadata": {
        "id": "lpo6cHANchf1"
      },
      "source": [
        "**Paso 5: Tomar la Decisión y Concluir**\n",
        "\n",
        "<font color='red'>Puntos importantes</font>\n",
        "\n",
        "Podemos decidir si rechazamos o no $H_0$ usando dos criterios:\n",
        "> 1. Si la Estadística de prueba $(Z \\, \\textrm{o}\\, T)$  cae en la región de rechazo, entonces rechazamos $H_0$. \n",
        "> 2. Si $p$-valor $\\leq \\alpha$ rechazamos $H_0$. El cálculo del $p$-valor está ligado al tipo de hipótesis.  Asumiendo que $W$ es una estadística de prueba ($Z$ o $T$) cualquiera, tenemos que\n",
        ">- Prueba <font color='red'>bilateral $(H_1: \\mu \\neq \\mu_0)$</font>\n",
        "\n",
        "$$p-\\textrm{valor}= 2\\times P(W \\geq Z) = 2\\times [1-P(W < Z) ] $$.\n",
        "\n",
        ">- Prueba <font color='red'>Unilateral a derecha $(H_1: \\mu > \\mu_0)$</font>\n",
        "\n",
        "$$p-\\textrm{valor}= P(W \\geq Z)= 1-P(W < Z)$$\n",
        "\n",
        ">- Prueba <font color='red'>Unilateral a izquierda $(H_1: \\mu < \\mu_0)$</font> \n",
        "\n",
        "$$p-\\textrm{valor}= P(W \\leq Z)$$.\n"
      ]
    },
    {
      "cell_type": "markdown",
      "metadata": {
        "id": "miGOADKYpsjn"
      },
      "source": [
        "# <font color=green>3. PRUEBA DE HIPÓTESIS PARA UNA MEDIA </font>\n",
        "***"
      ]
    },
    {
      "cell_type": "markdown",
      "metadata": {
        "id": "rUKgxZ7_psjp"
      },
      "source": [
        "## <font color=green>3.1 Prueba Bilateral</font>\n",
        "***"
      ]
    },
    {
      "cell_type": "markdown",
      "metadata": {
        "id": "1jkckT992-i6"
      },
      "source": [
        "### **Problema**"
      ]
    },
    {
      "cell_type": "markdown",
      "metadata": {
        "id": "L0SH1itkm-4N"
      },
      "source": [
        "Una máquina que llena **paquetes de café** estaba regulada para llenarlos con un **peso medio de $500 \\,g$**.  Después de un tiempo de uso, la máquina se ha desregulado y se desea saber cuál es el **peso medio actual** $\\mu$ con el que la máquina llena los paquetes de café. Cuando el volumen medio cae debajo de $500 \\,g$ la empresa se preocupa en perder ventas y tener problemas con los organos fiscalizadores. Por otro lado, cuando el valumen pasa los $500 \\,g$ la empresa empieza a preocuparse con pérdidas en el proceso de producción. \n",
        "\n",
        "El sector de control de calidad de la empresa, extrae periodicamente **muestras de 50 paquetes** para monitorear el proceso de producción. Para cada muestra, realiza una **prueba de hipótesis** para evaluar si la máquina se desajustó. En todos los casos, el equipo de control de calidad asumió un **nivel de significancia del 5%**. \n",
        "\n",
        "Suponga que una muestra **muestra de 50 paquetes** tuvo un peso promedio de $503.24 \\, g$. ¿Es este valor medio muestral suficientemente mayor que $500 \\, g$ para hacernos rechazar la hipótesis de que el promedio del proceso es $500 \\, g$ al **nivel de significancia del 5%**? \n",
        "\n",
        "Asuma que el peso de los paquetes que llena la máquina se distribuye normalmente con una desviacion estándar de $4.5 \\, g$."
      ]
    },
    {
      "cell_type": "markdown",
      "metadata": {
        "id": "idUBrxyIlWT0"
      },
      "source": [
        "Si denotamos por \\\\\n",
        "<font color='blue'>$\\mu$</font> $\\Rightarrow$ el peso medio de los paquetes de cafe. \\\\\n",
        "<font color='red'>$\\mu_0$</font> $\\Rightarrow$ el peso medio de referencia. \\\\\n",
        "\n",
        "las hipótesis que queremos probar son \\\\\n",
        "$\n",
        "\\begin{cases}\n",
        "H_0: \\mu = 500\\\\\n",
        "H_1: \\mu \\neq 500\n",
        "\\end{cases}\n",
        "$\n",
        "\n",
        "observe que <font color='red'>$\\mu_0 = 500$.</font>\n",
        "\n",
        "***\n"
      ]
    },
    {
      "cell_type": "markdown",
      "metadata": {
        "id": "uAFSQzzE4f8G"
      },
      "source": [
        "**Datos del problema**"
      ]
    },
    {
      "cell_type": "code",
      "metadata": {
        "id": "wOEo46MNsmX6"
      },
      "source": [
        ""
      ],
      "execution_count": null,
      "outputs": []
    },
    {
      "cell_type": "code",
      "metadata": {
        "id": "sytomW4yuTJM"
      },
      "source": [
        ""
      ],
      "execution_count": null,
      "outputs": []
    },
    {
      "cell_type": "code",
      "metadata": {
        "id": "XAP-CmA-uWlI"
      },
      "source": [
        ""
      ],
      "execution_count": null,
      "outputs": []
    },
    {
      "cell_type": "code",
      "metadata": {
        "id": "mQyE68RR23HJ"
      },
      "source": [
        "    "
      ],
      "execution_count": null,
      "outputs": []
    },
    {
      "cell_type": "markdown",
      "metadata": {
        "id": "ghy6CCqEla2R"
      },
      "source": [
        "#### <b> Haciendo cálculos </b>"
      ]
    },
    {
      "cell_type": "markdown",
      "metadata": {
        "id": "lKDC-IpQ5iOc"
      },
      "source": [
        "**Paso 1: Establecer las hipótesis $H_0$ y $H_1$**\n",
        "\n",
        "$\\mu\\Rightarrow$ el peso medio de los paquetes de cafe.\n",
        "\n",
        "\n",
        "$\n",
        "\\begin{cases}\n",
        "H_0: \\mu = 500   \\\\\n",
        "H_1: \\mu \\neq 500\n",
        "\\end{cases}\n",
        "$\n",
        "\n",
        "En este caso tenemos que $\\mu_0 = 500 $ \n",
        "\n",
        "  "
      ]
    },
    {
      "cell_type": "markdown",
      "metadata": {
        "id": "EhJXUtAK6lWz"
      },
      "source": [
        "**Paso 2: Fijar el nivel de significancia $\\alpha$ de la prueba**\n",
        "\n",
        "$\\alpha = 0.05$"
      ]
    },
    {
      "cell_type": "markdown",
      "metadata": {
        "id": "FBBzq33C7TGD"
      },
      "source": [
        "**Paso 3: Determinar la distribución de muestreo y Estadística de Prueba adecuada**"
      ]
    },
    {
      "cell_type": "markdown",
      "metadata": {
        "id": "kRJtmw9YjlJQ"
      },
      "source": [
        "![Resumen una media](https://caelum-online-public.s3.amazonaws.com/ESP-1778-estadistica-con-python-test-hipotesis/Resumen_mu.png)"
      ]
    },
    {
      "cell_type": "markdown",
      "metadata": {
        "id": "jr1AxSL4zN2W"
      },
      "source": [
        "Como la muestra es normal y $\\sigma$ es conocido, **la estadística de prueba adecuada** es \n",
        "$$Z=\\frac{\\overline{X} - \\mu_0}{\\sigma/\\sqrt{n}}$$ \n",
        "\n",
        "Sabemos  que $Z$ se distribuye aproximadamente como una normal estándar."
      ]
    },
    {
      "cell_type": "code",
      "metadata": {
        "id": "J1Flr98NSTum"
      },
      "source": [
        ""
      ],
      "execution_count": null,
      "outputs": []
    },
    {
      "cell_type": "code",
      "metadata": {
        "id": "cUTiuNBCu09D"
      },
      "source": [
        ""
      ],
      "execution_count": null,
      "outputs": []
    },
    {
      "cell_type": "markdown",
      "metadata": {
        "id": "AaWGL95c-noC"
      },
      "source": [
        "**Paso 4: Determinar la región crítica**"
      ]
    },
    {
      "cell_type": "markdown",
      "metadata": {
        "id": "mUIH0kZDj5BO"
      },
      "source": [
        "![Region Critica Bilateral](https://caelum-online-public.s3.amazonaws.com/ESP-1778-estadistica-con-python-test-hipotesis/Region_Critica_Bilateral.png)"
      ]
    },
    {
      "cell_type": "markdown",
      "metadata": {
        "id": "OzU1qYLzDaax"
      },
      "source": [
        "Obteniendo $z_{\\alpha/2}$\n",
        "\n",
        "https://docs.scipy.org/doc/scipy/reference/generated/scipy.stats.norm.html"
      ]
    },
    {
      "cell_type": "code",
      "metadata": {
        "id": "DMoXFzqGSPK7"
      },
      "source": [
        ""
      ],
      "execution_count": null,
      "outputs": []
    },
    {
      "cell_type": "code",
      "metadata": {
        "id": "iU5P6cv_u2-8"
      },
      "source": [
        ""
      ],
      "execution_count": null,
      "outputs": []
    },
    {
      "cell_type": "markdown",
      "metadata": {
        "id": "dmfA1mA8Ewll"
      },
      "source": [
        "Por lo tanto, la Región Crítica es como sigue\n"
      ]
    },
    {
      "cell_type": "markdown",
      "metadata": {
        "id": "S4p5Mg8_kYsv"
      },
      "source": [
        "![Valor Critico Bilateral](https://caelum-online-public.s3.amazonaws.com/ESP-1778-estadistica-con-python-test-hipotesis/Valor_Critico_Bilateral.png)"
      ]
    },
    {
      "cell_type": "markdown",
      "metadata": {
        "id": "vX6wcRBxFdmJ"
      },
      "source": [
        "**Paso 5: Tomar la decisión y concluir**\n",
        "\n",
        "<font color='red'>¿$Z = 5,09$ está en la Región Crítica?</font> o equivalentemente <font color='red'>¿ $Z \\leq -1,96$ ou $Z \\geq 1,96$?</font>\n",
        "\n",
        "\n"
      ]
    },
    {
      "cell_type": "code",
      "metadata": {
        "id": "ZUcnOa3Gu4sQ"
      },
      "source": [
        ""
      ],
      "execution_count": null,
      "outputs": []
    },
    {
      "cell_type": "markdown",
      "metadata": {
        "id": "zqz_NMqvgGSK"
      },
      "source": [
        "Observe que <font color='red'>$Z \\geq 1,96$</font>, por lo tanto hay suficiente evidencia en la muestra para <font color='red'>rechazar $H_0$</font>."
      ]
    },
    {
      "cell_type": "markdown",
      "metadata": {
        "id": "rNkgyHYxkkGb"
      },
      "source": [
        "![Decision Cafe](https://caelum-online-public.s3.amazonaws.com/ESP-1778-estadistica-con-python-test-hipotesis/Decision_Cafe.png)"
      ]
    },
    {
      "cell_type": "markdown",
      "metadata": {
        "id": "yfnKBJ_bbIaY"
      },
      "source": [
        "<font color='red'>Rechazamos $H_0$ si $p$-valor $\\leq \\alpha$.</font>\n",
        "\n"
      ]
    },
    {
      "cell_type": "markdown",
      "metadata": {
        "id": "ItC8cs3AfHrU"
      },
      "source": [
        "Recordemos que cuando la prueba es bilateral $(H_1: \\mu \\neq 500)$ el $p$-valor se calcula como \n",
        "\n",
        "$$p-\\textrm{valor}= 2\\times P(W \\geq Z) = 2\\times [1-P(W < Z)]$$."
      ]
    },
    {
      "cell_type": "code",
      "metadata": {
        "id": "kv23rFDMu8Bz"
      },
      "source": [
        ""
      ],
      "execution_count": null,
      "outputs": []
    },
    {
      "cell_type": "code",
      "metadata": {
        "id": "9KeXt7T2u73H"
      },
      "source": [
        ""
      ],
      "execution_count": null,
      "outputs": []
    },
    {
      "cell_type": "code",
      "metadata": {
        "id": "dQxetzh1u7rX"
      },
      "source": [
        ""
      ],
      "execution_count": null,
      "outputs": []
    },
    {
      "cell_type": "markdown",
      "metadata": {
        "id": "2fAfwxqHkq-H"
      },
      "source": [
        "Observe que <font color='red'>$p-\\textrm{valor} \\leq \\alpha$</font>, por lo tanto hay suficiente evidencia en la muestra para <font color='red'>rechazar $H_0$</font>."
      ]
    },
    {
      "cell_type": "markdown",
      "metadata": {
        "id": "wMd0iTA0Hj7O"
      },
      "source": [
        "<font color='blue'>**Conclusión:** Se sechaza la hipótesis nula $H_0$ de que la máquina llena los paquetes de café con un peso promedio de $500\\, g$. Entonces, deben tomarse medidas para ajustar la máquina.</font>"
      ]
    },
    {
      "cell_type": "markdown",
      "metadata": {
        "id": "YFC-ArHblwNv"
      },
      "source": [
        "#### <b>Usando biblioteca de Phyton </b>\n",
        "  "
      ]
    },
    {
      "cell_type": "markdown",
      "metadata": {
        "id": "T2JGXeFQoKiG"
      },
      "source": [
        "<font color='red'>Usando ztest</font>"
      ]
    },
    {
      "cell_type": "markdown",
      "metadata": {
        "id": "fyi8SosImslw"
      },
      "source": [
        "https://www.statsmodels.org/stable/generated/statsmodels.stats.weightstats.ztest.html"
      ]
    },
    {
      "cell_type": "code",
      "metadata": {
        "id": "3BACQdmoTUzP"
      },
      "source": [
        ""
      ],
      "execution_count": null,
      "outputs": []
    },
    {
      "cell_type": "code",
      "metadata": {
        "id": "Jv5jlY2HvBcD"
      },
      "source": [
        ""
      ],
      "execution_count": null,
      "outputs": []
    },
    {
      "cell_type": "code",
      "metadata": {
        "id": "jKZBrv6PvBQe"
      },
      "source": [
        ""
      ],
      "execution_count": null,
      "outputs": []
    },
    {
      "cell_type": "code",
      "metadata": {
        "id": "2KWEPIR0vAqF"
      },
      "source": [
        ""
      ],
      "execution_count": null,
      "outputs": []
    },
    {
      "cell_type": "markdown",
      "metadata": {
        "id": "PWrm6Ile-OKQ"
      },
      "source": [
        "Observe que <font color='red'>$p-\\textrm{valor} \\leq \\alpha$</font>, por lo tanto hay suficiente evidencia en la muestra para <font color='red'>rechazar $H_0$</font>."
      ]
    },
    {
      "cell_type": "markdown",
      "metadata": {
        "id": "PRErSb35oQAT"
      },
      "source": [
        "<font color='red'>Usando DescrStatsW</font>"
      ]
    },
    {
      "cell_type": "markdown",
      "metadata": {
        "id": "BFziUDXHoeVp"
      },
      "source": [
        "https://www.statsmodels.org/dev/generated/statsmodels.stats.weightstats.DescrStatsW.html"
      ]
    },
    {
      "cell_type": "code",
      "metadata": {
        "id": "ES10RwPpTOTD"
      },
      "source": [
        ""
      ],
      "execution_count": null,
      "outputs": []
    },
    {
      "cell_type": "code",
      "metadata": {
        "id": "GukjGriwTN_J"
      },
      "source": [
        ""
      ],
      "execution_count": null,
      "outputs": []
    },
    {
      "cell_type": "code",
      "metadata": {
        "id": "za1OAVoRvFtu"
      },
      "source": [
        ""
      ],
      "execution_count": null,
      "outputs": []
    },
    {
      "cell_type": "code",
      "metadata": {
        "id": "feao08WCvHV4"
      },
      "source": [
        ""
      ],
      "execution_count": null,
      "outputs": []
    },
    {
      "cell_type": "code",
      "metadata": {
        "id": "nqRsaP36vI87"
      },
      "source": [
        ""
      ],
      "execution_count": null,
      "outputs": []
    },
    {
      "cell_type": "markdown",
      "metadata": {
        "id": "qS_DClPC-cd-"
      },
      "source": [
        "Observe que <font color='red'>$p-\\textrm{valor} \\leq \\alpha$</font>, por lo tanto hay suficiente evidencia en la muestra para <font color='red'>rechazar $H_0$</font>."
      ]
    },
    {
      "cell_type": "markdown",
      "metadata": {
        "id": "T4qLLaN3p5Fp"
      },
      "source": [
        "<font color='blue'>**Conclusión:** Se sechaza la hipótesis nula $H_0$ de que la máquina llena los paquetes de café con un peso promedio de $500\\, g$. Entonces, deben tomarse medidas para ajustar la máquina.</font>"
      ]
    },
    {
      "cell_type": "markdown",
      "metadata": {
        "id": "W2KgNfIEph0w"
      },
      "source": [
        "### **Resumiendo** "
      ]
    },
    {
      "cell_type": "markdown",
      "metadata": {
        "id": "5Gq0BAUzk79q"
      },
      "source": [
        "![Bilateral](https://caelum-online-public.s3.amazonaws.com/ESP-1778-estadistica-con-python-test-hipotesis/Bilateral.png)"
      ]
    },
    {
      "cell_type": "markdown",
      "metadata": {
        "id": "FwedfiP3oWnO"
      },
      "source": [
        "## <font color=green>3.2 Prueba Unilateral</font>"
      ]
    },
    {
      "cell_type": "markdown",
      "metadata": {
        "id": "EZRUqJoO3elR"
      },
      "source": [
        "### **Problema**"
      ]
    },
    {
      "cell_type": "markdown",
      "metadata": {
        "id": "8JqBjdlIpaU5"
      },
      "source": [
        "Una cadena de comidas rápidas que se dedica a vender únicamente snacks típicos de Colombia, **afirma que el tiempo medio para servir uno de esos snacks es de aproximadamente 12 minutos**. Una empresa que investiga casos de publicidad engañosa **sospecha que ese tiempo es mayor**. Con el fin de probar la afirmación de la cadena, la empresa selecciona aleatoriamente **una muestra de 100 snacks** en varios establecimientos de esta cadena y que serven este tipo de productos, y mide el tiempo que demoran en servir cada uno. \n",
        "**Asumiendo que esa población se distribuye aproximadamente como una normal** y considerando un **nivel de significancia del 5%** ¿qué se puede concluir sobre la declaración de la cadena? \n"
      ]
    },
    {
      "cell_type": "markdown",
      "metadata": {
        "id": "cjPOt9xTpEny"
      },
      "source": [
        "Si denotamos por \\\\\n",
        "<font color='blue'>$\\mu$</font> $\\Rightarrow$ el tiempo medio en servir uno snacks. \\\\\n",
        "<font color='red'>$\\mu_0$</font> $\\Rightarrow$ el tiempo medio de referencia. \\\\\n",
        "\n",
        "las hipótesis que queremos probar son \\\\\n",
        "\n",
        "$\n",
        "\\begin{cases}\n",
        "H_0: \\mu = 12\\\\\n",
        "H_1: \\mu > 12\n",
        "\\end{cases}\n",
        "$\n",
        "\n",
        "observe que  <font color='red'>$\\mu_0 = 12$.</font>\n",
        "\n",
        "***"
      ]
    },
    {
      "cell_type": "markdown",
      "metadata": {
        "id": "fb52sd-_wUVF"
      },
      "source": [
        "**Datos del problema**"
      ]
    },
    {
      "cell_type": "code",
      "metadata": {
        "id": "V_EVCMSlcwlq"
      },
      "source": [
        ""
      ],
      "execution_count": null,
      "outputs": []
    },
    {
      "cell_type": "code",
      "metadata": {
        "id": "WBkuCaJuyf6v"
      },
      "source": [
        ""
      ],
      "execution_count": null,
      "outputs": []
    },
    {
      "cell_type": "code",
      "metadata": {
        "id": "o79V-QlFxIWY"
      },
      "source": [
        ""
      ],
      "execution_count": null,
      "outputs": []
    },
    {
      "cell_type": "markdown",
      "metadata": {
        "id": "xyh6COJJkbe1"
      },
      "source": [
        "#### **Haciendo cálculos**"
      ]
    },
    {
      "cell_type": "markdown",
      "metadata": {
        "id": "XZod51VCY7s7"
      },
      "source": [
        "**Paso 1: Establecer las hipótesis $H_0$ y $H_1$**\n",
        "\n",
        "$\\mu\\Rightarrow$ el tiempo medio en servir uno snacks.\n",
        "\n",
        "$\n",
        "\\begin{cases}\n",
        "H_0: \\mu \\leq 12   \\\\\n",
        "H_1: \\mu > 12\n",
        "\\end{cases}\n",
        "$\n",
        "\n",
        "En este caso tenemos:\n",
        ">- Una prueba unilateral a derecha \n",
        ">- El valor de referencia es  <font color='red'>$\\mu_0 = 12 $</font>. \n",
        "\n"
      ]
    },
    {
      "cell_type": "markdown",
      "metadata": {
        "id": "EWmZ2yDDaVoy"
      },
      "source": [
        "**Paso 2: Fijar el nivel de significancia $\\alpha$ de la prueba**\n",
        "\n",
        "$\\alpha = 0,05$"
      ]
    },
    {
      "cell_type": "markdown",
      "metadata": {
        "id": "cKZiMRITagmb"
      },
      "source": [
        "**Paso 3: Determinar la distribución de muestreo y Estadística de prueba adecuada**"
      ]
    },
    {
      "cell_type": "markdown",
      "metadata": {
        "id": "JN7TM8YOlTw6"
      },
      "source": [
        "![Resumen una media](https://caelum-online-public.s3.amazonaws.com/ESP-1778-estadistica-con-python-test-hipotesis/Resumen_mu.png)"
      ]
    },
    {
      "cell_type": "markdown",
      "metadata": {
        "id": "PdC2pCnNyucA"
      },
      "source": [
        "Como la muestra es normal y $\\sigma$ es desconocido, **la estadística de prueba adecuada** es \n",
        "\n",
        "$$T=\\frac{\\overline{X} - \\mu_0}{S/\\sqrt{n}}$$\n",
        "\n",
        "Sabemos que $T$ se distribuye $t$-Student con $n-1$ grados de libertad."
      ]
    },
    {
      "cell_type": "code",
      "metadata": {
        "id": "oy5dNp5Vy21n"
      },
      "source": [
        ""
      ],
      "execution_count": null,
      "outputs": []
    },
    {
      "cell_type": "code",
      "metadata": {
        "id": "mB78q99py2nt"
      },
      "source": [
        ""
      ],
      "execution_count": null,
      "outputs": []
    },
    {
      "cell_type": "code",
      "metadata": {
        "id": "JqlhqHbAy2bp"
      },
      "source": [
        ""
      ],
      "execution_count": null,
      "outputs": []
    },
    {
      "cell_type": "markdown",
      "metadata": {
        "id": "XTOh5P2UaqYO"
      },
      "source": [
        "**Paso 4: Determinar la región crítica**"
      ]
    },
    {
      "cell_type": "markdown",
      "metadata": {
        "id": "OVTjF-F6lzrR"
      },
      "source": [
        "![Region Critica Snacks](https://caelum-online-public.s3.amazonaws.com/ESP-1778-estadistica-con-python-test-hipotesis/Region_Critica_Snacks.png)"
      ]
    },
    {
      "cell_type": "markdown",
      "metadata": {
        "id": "2YV6lz-z9sAw"
      },
      "source": [
        "Obteniendo $t_\\alpha$\n",
        "\n",
        "\n",
        "https://docs.scipy.org/doc/scipy/reference/generated/scipy.stats.t.html"
      ]
    },
    {
      "cell_type": "code",
      "metadata": {
        "id": "u07KgoZ7Y6cv"
      },
      "source": [
        ""
      ],
      "execution_count": null,
      "outputs": []
    },
    {
      "cell_type": "code",
      "metadata": {
        "id": "Flv1u5wq_RBW"
      },
      "source": [
        "\r\n"
      ],
      "execution_count": null,
      "outputs": []
    },
    {
      "cell_type": "code",
      "metadata": {
        "id": "yqsSu-LdzCZC"
      },
      "source": [
        ""
      ],
      "execution_count": null,
      "outputs": []
    },
    {
      "cell_type": "markdown",
      "metadata": {
        "id": "vam-xtWg_xj2"
      },
      "source": [
        "Por lo tanto, la Región Crítica es como sigue"
      ]
    },
    {
      "cell_type": "markdown",
      "metadata": {
        "id": "cDirGLUymEt_"
      },
      "source": [
        "![Valor Critico Snacks](https://caelum-online-public.s3.amazonaws.com/ESP-1778-estadistica-con-python-test-hipotesis/Valor_Critico_Snacks.png)"
      ]
    },
    {
      "cell_type": "markdown",
      "metadata": {
        "id": "VNlNz6b-a1r5"
      },
      "source": [
        "**Paso 5: Tomar la decisión y concluir**\n",
        "\n",
        "<font color='red'>¿$T = 3,85$ está en la Región Crítica?</font> o equivalentemente <font color='red'> ¿ $T \\geq 1,66$?</font>"
      ]
    },
    {
      "cell_type": "code",
      "metadata": {
        "id": "8tqlMrYWzFFn"
      },
      "source": [
        ""
      ],
      "execution_count": null,
      "outputs": []
    },
    {
      "cell_type": "markdown",
      "metadata": {
        "id": "eVHRW_KRHO7c"
      },
      "source": [
        "Observe que <font color='red'>$T \\geq 1,66$</font> y por lo tanto hay suficiente evidencia en la muestra para <font color='red'>rechazar $H_0$</font>."
      ]
    },
    {
      "cell_type": "markdown",
      "metadata": {
        "id": "5brm7jaAmjaI"
      },
      "source": [
        "![Decision Snacks](https://caelum-online-public.s3.amazonaws.com/ESP-1778-estadistica-con-python-test-hipotesis/Decision_Snacks.png)"
      ]
    },
    {
      "cell_type": "markdown",
      "metadata": {
        "id": "W8J-usmKINRc"
      },
      "source": [
        "<font color='red'>Rechazamos $H_0$ si $p$-valor $\\leq \\alpha$.</font>"
      ]
    },
    {
      "cell_type": "markdown",
      "metadata": {
        "id": "f5Mg-HmIIgbv"
      },
      "source": [
        "Recordemos que cuando la prueba es unilateral a derecha $(H_1: \\mu > 12)$ el $p$-valor se calcula como \n",
        "\n",
        "$$p-\\textrm{valor}= P(W \\geq T) = 1-P(W < T)$$."
      ]
    },
    {
      "cell_type": "markdown",
      "metadata": {
        "id": "aRRZ451YfnvN"
      },
      "source": [
        " o si $p-\\textrm{valor}\\leq \\alpha$"
      ]
    },
    {
      "cell_type": "code",
      "metadata": {
        "id": "YISmhvlBzJJI"
      },
      "source": [
        ""
      ],
      "execution_count": null,
      "outputs": []
    },
    {
      "cell_type": "code",
      "metadata": {
        "id": "lVGDiUCjzI97"
      },
      "source": [
        ""
      ],
      "execution_count": null,
      "outputs": []
    },
    {
      "cell_type": "code",
      "metadata": {
        "id": "BC_dfbdFzIxs"
      },
      "source": [
        ""
      ],
      "execution_count": null,
      "outputs": []
    },
    {
      "cell_type": "markdown",
      "metadata": {
        "id": "oQuH5jXRLQSe"
      },
      "source": [
        "Observe que <font color='red'>$p-\\textrm{valor} \\leq \\alpha$</font>, por lo tanto hay suficiente evidencia en la muestra para <font color='red'>rechazar $H_0$</font>."
      ]
    },
    {
      "cell_type": "markdown",
      "metadata": {
        "id": "1OvF5Tq7LcIR"
      },
      "source": [
        "<font color='blue'>**Conclusión:** Se rechaza la hipótesis nula $H_0$ de que la cadena de comidas rápidas demora en promedio 12 minutos en servir un snacks. Entonces,  la empresa confirma sus sospechas de propaganda engañosa.</font>"
      ]
    },
    {
      "cell_type": "markdown",
      "metadata": {
        "id": "Kx4L0K6qZI1b"
      },
      "source": [
        "#### Usando biblioteca de Phyton"
      ]
    },
    {
      "cell_type": "markdown",
      "metadata": {
        "id": "C3nc-fNCkcWp"
      },
      "source": [
        "<font color='red'>Usando DescrStatsW</font>\n",
        "\n",
        "https://www.statsmodels.org/dev/generated/statsmodels.stats.weightstats.DescrStatsW.html\n",
        "\n"
      ]
    },
    {
      "cell_type": "code",
      "metadata": {
        "id": "F9xg6Mjhl68C"
      },
      "source": [
        ""
      ],
      "execution_count": null,
      "outputs": []
    },
    {
      "cell_type": "code",
      "metadata": {
        "id": "dnNO8W3bbm60"
      },
      "source": [
        ""
      ],
      "execution_count": null,
      "outputs": []
    },
    {
      "cell_type": "code",
      "metadata": {
        "id": "gtja36OUzScM"
      },
      "source": [
        ""
      ],
      "execution_count": null,
      "outputs": []
    },
    {
      "cell_type": "code",
      "metadata": {
        "id": "NCEdYR5MzUED"
      },
      "source": [
        ""
      ],
      "execution_count": null,
      "outputs": []
    },
    {
      "cell_type": "code",
      "metadata": {
        "id": "prQMWSEYzWrJ"
      },
      "source": [
        ""
      ],
      "execution_count": null,
      "outputs": []
    },
    {
      "cell_type": "markdown",
      "metadata": {
        "id": "_qdSWO9TqtOX"
      },
      "source": [
        "Observe que <font color='red'>$p-\\textrm{valor} \\leq \\alpha$</font>, por lo tanto hay suficiente evidencia en la muestra para <font color='red'>rechazar $H_0$</font>."
      ]
    },
    {
      "cell_type": "markdown",
      "metadata": {
        "id": "Ng7B9ZWcq0Iq"
      },
      "source": [
        "<font color='blue'> **Conclusión:** Se rechaza la hipótesis nula $H_0$ de que la cadena de comidas rápidas demora en promedio 12 minutos en servir un snacks. Entonces,  la empresa confirma sus sospechas de propaganda engañosa.</font>"
      ]
    },
    {
      "cell_type": "markdown",
      "metadata": {
        "id": "cQ093ADMsAYS"
      },
      "source": [
        "**Suponiendo que la única información distribucional que tenemos es que la desviación estándar poblacional es 6 minutos ¿ se mantendrá la misma conclusión de que la cadena está haciendo propaganda engañosa?**"
      ]
    },
    {
      "cell_type": "markdown",
      "metadata": {
        "id": "pIDRqY9tv95d"
      },
      "source": [
        "<font color='red'> Tenga en cuenta que</font>\n",
        ">- No podemos afirmar que la muestra proviene de una normal.\n",
        ">- La desviación estándar poblacional $\\sigma$ es conocida ($\\sigma = 6$).\n",
        ">- $n=100$ es grande."
      ]
    },
    {
      "cell_type": "markdown",
      "metadata": {
        "id": "D8SE3qOum6E5"
      },
      "source": [
        "![Resumen una media](https://caelum-online-public.s3.amazonaws.com/ESP-1778-estadistica-con-python-test-hipotesis/Resumen_mu.png)"
      ]
    },
    {
      "cell_type": "markdown",
      "metadata": {
        "id": "WMuLnlr_yLJG"
      },
      "source": [
        "<font color='red'>Usando DescrStatsW</font>\n",
        "\n",
        "https://www.statsmodels.org/dev/generated/statsmodels.stats.weightstats.DescrStatsW.html"
      ]
    },
    {
      "cell_type": "code",
      "metadata": {
        "id": "UAa-3WA5yPfZ"
      },
      "source": [
        ""
      ],
      "execution_count": null,
      "outputs": []
    },
    {
      "cell_type": "code",
      "metadata": {
        "id": "iZSRuyj1zZtZ"
      },
      "source": [
        ""
      ],
      "execution_count": null,
      "outputs": []
    },
    {
      "cell_type": "code",
      "metadata": {
        "id": "2CxPXcpSzbqh"
      },
      "source": [
        ""
      ],
      "execution_count": null,
      "outputs": []
    },
    {
      "cell_type": "code",
      "metadata": {
        "id": "3NwfLDKAcuiI"
      },
      "source": [
        ""
      ],
      "execution_count": null,
      "outputs": []
    },
    {
      "cell_type": "markdown",
      "metadata": {
        "id": "tKQDzRqZ_QWa"
      },
      "source": [
        "Observe que <font color='red'>$p-\\textrm{valor} \\leq \\alpha$</font>, por lo tanto hay suficiente evidencia en la muestra para <font color='red'>rechazar $H_0$</font>."
      ]
    },
    {
      "cell_type": "markdown",
      "metadata": {
        "id": "hMlPjnTgzDor"
      },
      "source": [
        "<font color='red'>Note que los resultados son cercanos y que las conclusiones son las mismas. Esto sucede cuando $n$ es grande, pues la distribución $t$-Student queda muy próxima a la distribución normal</font>."
      ]
    },
    {
      "cell_type": "markdown",
      "metadata": {
        "id": "Hnm5igo5k2qF"
      },
      "source": [
        "### **Resumiendo**"
      ]
    },
    {
      "cell_type": "markdown",
      "metadata": {
        "id": "Azejk9BwnTR6"
      },
      "source": [
        "![Unilateral](https://caelum-online-public.s3.amazonaws.com/ESP-1778-estadistica-con-python-test-hipotesis/Unilateral.png)"
      ]
    },
    {
      "cell_type": "markdown",
      "metadata": {
        "id": "L7_ZbBBtpslb"
      },
      "source": [
        "# <font color=green>4. PRUEBA DE HIPÓTESIS PARA DIFERENCIA DE MEDIAS</font>\n",
        "\n",
        "\n",
        "***"
      ]
    },
    {
      "cell_type": "markdown",
      "metadata": {
        "id": "NRA6edvsrfaz"
      },
      "source": [
        "**Problema**\n",
        "\n",
        "En nuestro conjunto de datos de la **Encuesta Nacional por Muestra de Hogares - 2015** tenemos los salarios de los jefes de hogar. Un problema bastante conocido en Brasil es la **desigualdad de salarios entre hombres y mujeres**.  \n",
        "\n",
        "Con el objetivo de probar esta desigualdad, seleccione dos muestras aleatorias de los jefes del hogar, una con **500 hombres** y otra con **500 mujeres**. **Pruebe la igualdad de las medias de los salarios de los dos géneros utilizando un nivel de significancia del 1% y asuma que las desviaciones estándar son iguales.**"
      ]
    },
    {
      "cell_type": "markdown",
      "metadata": {
        "id": "dEz13KlAr7ag"
      },
      "source": [
        "Si denotamos por \\\\\n",
        "\n",
        "<font color='red'>$\\mu_H$</font> $\\Rightarrow$ el salario medio poblacional de jefes del hogar <font color='red'>hombres</font>,\n",
        "\n",
        "<font color='blue'>$\\mu_M$</font> $\\Rightarrow$  el salario medio poblacional de jefes del hogar <font color='blue'>mujeres</font>,\n",
        "\n",
        "podemos plantear las hipótesis como sigue\n",
        "\n",
        "$\n",
        "\\begin{cases}\n",
        "H_0: \\mu_H \\leq \\mu_M \\,  \\\\\n",
        "H_1: \\mu_H > \\mu_M\n",
        "\\end{cases}\n",
        "$\n",
        "**O equivalentemente**\n",
        "$\n",
        "\\begin{cases}\n",
        "H_0: \\mu_H - \\mu_M \\leq 0\\,  \\\\\n",
        "H_1: \\mu_H - \\mu_M > 0 \n",
        "\\end{cases}\n",
        "$\n",
        "***"
      ]
    },
    {
      "cell_type": "markdown",
      "metadata": {
        "id": "xzGuwM4xpslc"
      },
      "source": [
        "**Selecionando las muestras**"
      ]
    },
    {
      "cell_type": "code",
      "metadata": {
        "id": "nuNSrzfYpsld",
        "scrolled": true
      },
      "source": [
        ""
      ],
      "execution_count": null,
      "outputs": []
    },
    {
      "cell_type": "code",
      "metadata": {
        "id": "W-W9IOs1psle",
        "scrolled": true
      },
      "source": [
        ""
      ],
      "execution_count": null,
      "outputs": []
    },
    {
      "cell_type": "markdown",
      "metadata": {
        "id": "FOFa-cHwpslg"
      },
      "source": [
        "**Datos del problema**"
      ]
    },
    {
      "cell_type": "code",
      "metadata": {
        "id": "BGyXCbompslh"
      },
      "source": [
        ""
      ],
      "execution_count": null,
      "outputs": []
    },
    {
      "cell_type": "markdown",
      "metadata": {
        "id": "EfKnJ3xijo0X"
      },
      "source": [
        "## **Haciendo cálculos**"
      ]
    },
    {
      "cell_type": "markdown",
      "metadata": {
        "id": "OL5v9jD2kHDS"
      },
      "source": [
        "**Paso 1: Establecer las hipótesis $H_0$ y $H_1$**\n",
        "\n"
      ]
    },
    {
      "cell_type": "markdown",
      "metadata": {
        "id": "41uS04lBmZls"
      },
      "source": [
        "Si denotamos por \\\\\n",
        "\n",
        "<font color='red'>$\\mu_H$</font> $\\Rightarrow$ el salario medio poblacional de jefes del hogar <font color='red'>hombres</font>,\n",
        "\n",
        "<font color='blue'>$\\mu_M$</font> $\\Rightarrow$  el salario medio poblacional de jefes del hogar <font color='blue'>mujeres</font>,\n",
        "\n",
        "podemos plantear las hipótesis como sigue\n",
        "\n",
        "$\n",
        "\\begin{cases}\n",
        "H_0: \\mu_H \\leq \\mu_M \\,  \\\\\n",
        "H_1: \\mu_H > \\mu_M\n",
        "\\end{cases}\n",
        "$\n",
        "**O equivalentemente**\n",
        "$\n",
        "\\begin{cases}\n",
        "H_0: \\mu_H - \\mu_M \\leq 0\\,  \\\\\n",
        "H_1: \\mu_H - \\mu_M > 0 \n",
        "\\end{cases}\n",
        "$\n",
        "\n",
        "Observe que en este caso tenemos una hipótesis <font color='green'> Unilateral a Derecha</font>."
      ]
    },
    {
      "cell_type": "markdown",
      "metadata": {
        "id": "appJ1tMKkRJt"
      },
      "source": [
        "**Paso 2: Fijar el nivel de significancia $\\alpha$ de la prueba**"
      ]
    },
    {
      "cell_type": "markdown",
      "metadata": {
        "id": "3kDAWQSUneCl"
      },
      "source": [
        "$\\alpha = 0,01$"
      ]
    },
    {
      "cell_type": "markdown",
      "metadata": {
        "id": "zpwPRUhPkxD2"
      },
      "source": [
        "**Paso 3: Determinar la distribución de muestreo y Estadística de prueba adecuada**"
      ]
    },
    {
      "cell_type": "markdown",
      "metadata": {
        "id": "7uDa6RFD9HkF"
      },
      "source": [
        "![Resumen dos medias](https://caelum-online-public.s3.amazonaws.com/ESP-1778-estadistica-con-python-test-hipotesis/Resumen_Dif.png)"
      ]
    },
    {
      "cell_type": "markdown",
      "metadata": {
        "id": "by92F6elnzEh"
      },
      "source": [
        "¿Es posible afirmar que las muestras provienen de una distribución normal?\n",
        "\n",
        ">*Respuesta*: No.\n",
        "\n",
        " ¿El tamaño de las muestras es grande?\n",
        "> *Respuesta*: Sí $(n_H = n_M = 500)$. \n",
        "\n",
        "Conforme las respuestas anteriores, la **estadística de prueba adecuada** es\n",
        "$$Z = \\frac{\\left(\\overline{X}_H - \\overline{Y}_M\\right) - D_0}{\\sqrt{\\frac{S^{2}_H}{n_H}+\\frac{S^{2}_M}{n_M}}} \\sim N(0,1)$$\n",
        "\n",
        "siendo:\n",
        ">- $\\overline{X}_H$: el salario medio muestral de los jefes del hogar que son hombres,\n",
        "\n",
        ">- $\\overline{Y}_M$: el salario medio muestral de los jefes del hogar que son mujeres,\n",
        "\n",
        ">- $S^{2}_H$: la varianza muestral del salario de los jefes del hogar que son hombres,\n",
        "\n",
        ">- $S^{2}_M$: la varianza muestral del salario de los jefes del hogar que son mujeres,\n",
        "\n",
        ">- $n_H$: Total de observaciones en la muestra de los salarios de los jefes del hogar que son hombres,\n",
        "\n",
        ">- $n_M$: Total de observaciones en la muestra de los salarios de los jefes del hogar que son mujeres,\n",
        "\n",
        ">- $D_0$: el valor de referecia de la diferencia entre $\\mu_H$ y $\\mu_M$."
      ]
    },
    {
      "cell_type": "code",
      "metadata": {
        "id": "GK1_gn9Xz-1-"
      },
      "source": [
        ""
      ],
      "execution_count": null,
      "outputs": []
    },
    {
      "cell_type": "code",
      "metadata": {
        "id": "5kxMduINz-q0"
      },
      "source": [
        ""
      ],
      "execution_count": null,
      "outputs": []
    },
    {
      "cell_type": "code",
      "metadata": {
        "id": "JImuyoq_z-dK"
      },
      "source": [
        ""
      ],
      "execution_count": null,
      "outputs": []
    },
    {
      "cell_type": "code",
      "metadata": {
        "id": "GtOdxUfnz-S5"
      },
      "source": [
        ""
      ],
      "execution_count": null,
      "outputs": []
    },
    {
      "cell_type": "code",
      "metadata": {
        "id": "6s1CSIDjz-Hn"
      },
      "source": [
        ""
      ],
      "execution_count": null,
      "outputs": []
    },
    {
      "cell_type": "markdown",
      "metadata": {
        "id": "S_ku8NxeTv0Z"
      },
      "source": [
        "$$Z = \\frac{\\left(\\overline{X}_H - \\overline{Y}_M\\right) - D_0}{\\sqrt{\\frac{S^{2}_H}{n_H}+\\frac{S^{2}_M}{n_M}}} $$"
      ]
    },
    {
      "cell_type": "code",
      "metadata": {
        "id": "Gew33H9IcsO0"
      },
      "source": [
        "\r\n"
      ],
      "execution_count": null,
      "outputs": []
    },
    {
      "cell_type": "code",
      "metadata": {
        "id": "NGXVvRFTr9R2"
      },
      "source": [
        ""
      ],
      "execution_count": null,
      "outputs": []
    },
    {
      "cell_type": "code",
      "metadata": {
        "id": "vzHJTYkT0EKL"
      },
      "source": [
        ""
      ],
      "execution_count": null,
      "outputs": []
    },
    {
      "cell_type": "markdown",
      "metadata": {
        "id": "uy1eWLbUkzR2"
      },
      "source": [
        "**Paso 4: Determinar la región crítica**"
      ]
    },
    {
      "cell_type": "markdown",
      "metadata": {
        "id": "YXM-UzVXC-7x"
      },
      "source": [
        "![Region Critica Renta](https://caelum-online-public.s3.amazonaws.com/ESP-1778-estadistica-con-python-test-hipotesis/Region_Critica_Renta.png)"
      ]
    },
    {
      "cell_type": "markdown",
      "metadata": {
        "id": "dssJjM8EtTGe"
      },
      "source": [
        "Obteniendo $z_\\alpha$ "
      ]
    },
    {
      "cell_type": "markdown",
      "metadata": {
        "id": "Pw9XX1tctbqV"
      },
      "source": [
        "https://docs.scipy.org/doc/scipy/reference/generated/scipy.stats.norm.html"
      ]
    },
    {
      "cell_type": "code",
      "metadata": {
        "id": "EjZdTjN6th4c"
      },
      "source": [
        ""
      ],
      "execution_count": null,
      "outputs": []
    },
    {
      "cell_type": "code",
      "metadata": {
        "id": "rKG5bzoW0GxF"
      },
      "source": [
        ""
      ],
      "execution_count": null,
      "outputs": []
    },
    {
      "cell_type": "markdown",
      "metadata": {
        "id": "IDUnaO41tv9P"
      },
      "source": [
        "Por lo tanto la Región Crítica es\n"
      ]
    },
    {
      "cell_type": "markdown",
      "metadata": {
        "id": "WpUF-RAoDsaL"
      },
      "source": [
        "![Valor Crítico Renta](https://caelum-online-public.s3.amazonaws.com/ESP-1778-estadistica-con-python-test-hipotesis/Valor_Critico_Renta.png)"
      ]
    },
    {
      "cell_type": "markdown",
      "metadata": {
        "id": "xJOdrXmClBMD"
      },
      "source": [
        "**Paso 5: Tomar la decisión y concluir**\n",
        "\n",
        "<font color='red'>¿$Z = 5,87 $ está en la Región Crítica?</font> o equivalentemente <font color='red'> ¿ $Z \\geq 2,33$?</font>"
      ]
    },
    {
      "cell_type": "code",
      "metadata": {
        "id": "2wTSTnOB0JJz"
      },
      "source": [
        ""
      ],
      "execution_count": null,
      "outputs": []
    },
    {
      "cell_type": "markdown",
      "metadata": {
        "id": "4CGzXWozvOhl"
      },
      "source": [
        "Observe que <font color='red'>$Z \\geq 2,33$</font>, por lo tanto hay suficiente evidencia en la muestra para <font color='red'>rechazar $H_0$</font>."
      ]
    },
    {
      "cell_type": "markdown",
      "metadata": {
        "id": "L5A1wU-7Eo7k"
      },
      "source": [
        "![Decision Renta](https://caelum-online-public.s3.amazonaws.com/ESP-1778-estadistica-con-python-test-hipotesis/Decision_Renta.png)"
      ]
    },
    {
      "cell_type": "markdown",
      "metadata": {
        "id": "vTzyADvYD01V"
      },
      "source": [
        "<font color='red'>Rechazamos $H_0$ si $p$-valor $\\leq \\alpha$.</font>\n"
      ]
    },
    {
      "cell_type": "markdown",
      "metadata": {
        "id": "qgyMZknaD-6M"
      },
      "source": [
        "Recordemos que cuando la prueba es unilateral a derecha $(H_1: \\mu_{H} - \\mu_{y} > 0)$ el $p$-valor se calcula como \n",
        "\n",
        "$$p-\\textrm{valor}= P(W \\geq Z) = 1-P(W < Z)$$.\n"
      ]
    },
    {
      "cell_type": "code",
      "metadata": {
        "id": "eTo-9w-g0M8Y"
      },
      "source": [
        ""
      ],
      "execution_count": null,
      "outputs": []
    },
    {
      "cell_type": "code",
      "metadata": {
        "id": "S3B1z3sg0Mon"
      },
      "source": [
        ""
      ],
      "execution_count": null,
      "outputs": []
    },
    {
      "cell_type": "markdown",
      "metadata": {
        "id": "n8ynKTuiFZ0T"
      },
      "source": [
        "Observe que <font color='red'>$p-\\textrm{valor} \\leq \\alpha$</font>, por lo tanto hay suficiente evidencia en la muestra para <font color='red'>rechazar $H_0$</font>.\n",
        "\n"
      ]
    },
    {
      "cell_type": "markdown",
      "metadata": {
        "id": "gynXPo4T1LZ8"
      },
      "source": [
        "<font color='blue'>**Conclusión:** Tenemos suficiente envidencia muestral para rechazar $H_0$, por lo tanto \n",
        "se concluye que el ingreso promedio de los hombres jefes de hogar es superior al ingreso promedio de las mujeres jefas de hogar. Esto confirma la alegación de desigualdad de ingresos entre géneros.</font>"
      ]
    },
    {
      "cell_type": "markdown",
      "metadata": {
        "id": "8IIlYxHPlJ8p"
      },
      "source": [
        "## Usando biblioteca de Phyton"
      ]
    },
    {
      "cell_type": "markdown",
      "metadata": {
        "id": "uQ8LhvyK2wTJ"
      },
      "source": [
        "<font color='red'>Usando DescrStatsW</font>\n",
        "\n",
        "https://www.statsmodels.org/dev/generated/statsmodels.stats.weightstats.DescrStatsW.html\n"
      ]
    },
    {
      "cell_type": "code",
      "metadata": {
        "id": "9jo0ADOt26bD"
      },
      "source": [
        ""
      ],
      "execution_count": null,
      "outputs": []
    },
    {
      "cell_type": "code",
      "metadata": {
        "id": "XNPsl4-jcLAF"
      },
      "source": [
        ""
      ],
      "execution_count": null,
      "outputs": []
    },
    {
      "cell_type": "code",
      "metadata": {
        "id": "GiJ-qMStcL67"
      },
      "source": [
        ""
      ],
      "execution_count": null,
      "outputs": []
    },
    {
      "cell_type": "code",
      "metadata": {
        "id": "1P2HUqb00URK"
      },
      "source": [
        ""
      ],
      "execution_count": null,
      "outputs": []
    },
    {
      "cell_type": "code",
      "metadata": {
        "id": "pb9D5uHt0WHF"
      },
      "source": [
        ""
      ],
      "execution_count": null,
      "outputs": []
    },
    {
      "cell_type": "code",
      "metadata": {
        "id": "ohzl6sJMcLhz"
      },
      "source": [
        ""
      ],
      "execution_count": null,
      "outputs": []
    },
    {
      "cell_type": "code",
      "metadata": {
        "id": "HNO9Rp710YDz"
      },
      "source": [
        ""
      ],
      "execution_count": null,
      "outputs": []
    },
    {
      "cell_type": "markdown",
      "metadata": {
        "id": "VZYAVyTr5Lz1"
      },
      "source": [
        "Observe que <font color='red'>$p-\\textrm{valor} \\leq \\alpha$</font>, por lo tanto hay suficiente evidencia en la muestra para <font color='red'>rechazar $H_0$</font>.\n",
        "\n"
      ]
    },
    {
      "cell_type": "markdown",
      "metadata": {
        "id": "9ZTxE4fF5lz9"
      },
      "source": [
        "<font color='red'>Usando CompareMeans</font>\n",
        "\n",
        "https://www.statsmodels.org/dev/generated/statsmodels.stats.weightstats.CompareMeans.ttest_ind.html"
      ]
    },
    {
      "cell_type": "code",
      "metadata": {
        "id": "l1SWcRzSdQps"
      },
      "source": [
        "\r\n"
      ],
      "execution_count": null,
      "outputs": []
    },
    {
      "cell_type": "code",
      "metadata": {
        "id": "fX8E5soy0ae6"
      },
      "source": [
        ""
      ],
      "execution_count": null,
      "outputs": []
    },
    {
      "cell_type": "code",
      "metadata": {
        "id": "rlyR26Nf0cRS"
      },
      "source": [
        ""
      ],
      "execution_count": null,
      "outputs": []
    },
    {
      "cell_type": "markdown",
      "metadata": {
        "id": "WOQTUjtH9en8"
      },
      "source": [
        "Observe que <font color='red'>$p-\\textrm{valor} \\leq \\alpha$</font>, por lo tanto hay suficiente evidencia en la muestra para <font color='red'>rechazar $H_0$</font>."
      ]
    },
    {
      "cell_type": "markdown",
      "metadata": {
        "id": "Y98i7H0z5ZRi"
      },
      "source": [
        "<font color='blue'>**Conclusión:** Tenemos suficiente envidencia muestral para rechazar $H_0$, por lo tanto \n",
        "se concluye que el ingreso promedio de los hombres jefes de hogar es superior al ingreso promedio de las mujeres jefas de hogar. Esto confirma la alegación de desigualdad de ingresos entre géneros.</font>"
      ]
    },
    {
      "cell_type": "markdown",
      "metadata": {
        "id": "I63jU7loEIe5"
      },
      "source": [
        "## Generalizando"
      ]
    },
    {
      "cell_type": "markdown",
      "metadata": {
        "id": "YGLyeg2CESIh"
      },
      "source": [
        "**En este tipo de prueba se comparan las medias de dos poblaciones independientes.**"
      ]
    },
    {
      "cell_type": "markdown",
      "metadata": {
        "id": "phtYeZncE2iG"
      },
      "source": [
        "Suponga que se tienen dos poblaciones independientes y que se extrae una muestra aleatoria de cada una, digamos $x$ y $y$, cuyas medias (poblacionales) son $\\mu_x$ y $\\mu_y$, y con varianzas (poblacionales) $\\sigma^{2}_x$ y $\\sigma^{2}_y$, respectivamente.\n",
        "\n",
        "Considere que el interés es probar hipótesis acerca de $\\mu_x - \\mu_y$, entonces se pueden plantear las siguientes pruebas de hipótesis:\n",
        "\n",
        ">1. Prueba de hipótesis <font color='red'>bilateral</b></font> $\\hspace{2.2 cm}$\n",
        "$\n",
        "\\begin{cases}\n",
        "H_0: \\mu_x = \\mu_y\\\\\n",
        "H_1: \\mu_x \\neq \\mu_y\n",
        "\\end{cases}\n",
        "$\n",
        "<font color='blue'>o equivalentemente </b></font>\n",
        "$\n",
        "\\begin{cases}\n",
        "H_0: \\mu_x - \\mu_y = D_0\\\\\n",
        "H_1: \\mu_x -  \\mu_y \\neq D_0\n",
        "\\end{cases}\n",
        "$\n",
        "\n",
        "> 2. Prueba de hipótesis <font color='red'>unilateral a derecha</font> $\\hspace{0.1 cm}$\n",
        "$\n",
        "\\begin{cases}\n",
        "H_0: \\mu_x \\leq \\mu_y\\\\\n",
        "H_1: \\mu_x > \\mu_y\n",
        "\\end{cases}\n",
        "$\n",
        "<font color='blue'>o equivalentemente </b></font>\n",
        "$\n",
        "\\begin{cases}\n",
        "H_0: \\mu_x - \\mu_y \\leq D_0\\\\\n",
        "H_1: \\mu_x -  \\mu_y > D_0\n",
        "\\end{cases}\n",
        "$\n",
        "\n",
        ">3. Prueba de hipótesis <font color='red'>unilateral a izquierda</font>\n",
        "$\n",
        "\\begin{cases}\n",
        "H_0: \\mu_x \\geq \\mu_y\\\\\n",
        "H_1: \\mu_x < \\mu_y\n",
        "\\end{cases}\n",
        "$\n",
        "<font color='blue'>o equivalentemente </b></font>\n",
        "$\n",
        "\\begin{cases}\n",
        "H_0: \\mu_x - \\mu_y \\geq D_0\\\\\n",
        "H_1: \\mu_x -  \\mu_y < D_0\n",
        "\\end{cases}\n",
        "$\n",
        "\n",
        "**$D_0$ es el valor de referencia de la diferencia entre las medias poblacionales.**"
      ]
    },
    {
      "cell_type": "markdown",
      "metadata": {
        "id": "X1clGeR4GPNI"
      },
      "source": [
        "### **Estadística de Prueba** "
      ]
    },
    {
      "cell_type": "markdown",
      "metadata": {
        "id": "_UCds5LqGS35"
      },
      "source": [
        "<font color='red'>Puntos importantes</font>\n",
        "\n",
        "> 1. Si ambas muestras aleatorias proviene de **distribuciones normales con varianzas conocidas** $(\\sigma^2_{x}, \\sigma^2_{y})$, la estadística de prueba es\n",
        "\n",
        "$$Z = \\frac{\\left(\\overline{X} - \\overline{Y}\\right) - D_{0}}{\\sqrt{\\frac{\\sigma^2_{x}}{n_{x}} + \\frac{\\sigma^2_{y}}{n_{y}}}} \\sim N(0,1)$$\n",
        "en que $\\overline{X}$ y $\\overline{Y}$ son las medias muestrales.\n",
        "\n",
        "> 2. Si ambas muestras aleatorias proviene de **distribuciones normales con varianzas desconocidas** $(\\sigma^2_{x}, \\sigma^2_{y})$, la estadística de prueba dependerá de como sean $\\sigma^2_{x}$ y $\\sigma^2_{y}$:\n",
        "\n",
        ">- **Si** $\\boldsymbol{\\sigma^{2}_{x}=\\sigma^{2}_{y}}$, la estadística de prueba es\n",
        "$$ T = \\frac{\\left(\\overline{X} - \\overline{Y}\\right) - D_{0}}{S_{p}\\sqrt{\\frac{1}{n_{x}} + \\frac{1}{n_{y}}}} \\sim t_{(n_{x}+n_{y}-2)}; \\hspace{0.9 cm} S_{p}=\\frac{(n_{x}-1)S^{2}_{x} + (n_{y}-1)S^{2}_{y}}{n_{x}+n_{y}-2}$$\n",
        "donde $n_{x}+n_{y}-2$ son los grados de libertad de la distribución t-Student.\n",
        "\n",
        ">- **Si** $\\boldsymbol{\\sigma^{2}_{x}\\neq \\sigma^{2}_{y}}$, la estadística de prueba es\n",
        "$$ T = \\frac{\\left(\\overline{X} - \\overline{Y}\\right) - D_{0}}{\\sqrt{\\frac{S^{2}_{x}}{n_{x}} + \\frac{S^{2}_{y}}{n_{y}}}} \\stackrel{aprox}{\\sim} t_{v}; \\hspace{0.9 cm} v= \\frac{\\left(\\frac{S^2_{x}}{n_{x}}+\\frac{S^{2}_{y}}{n_y}\\right)^2}{ \\frac{\\left(S^2_{x}/n_{x}\\right)^2}{n_{x}+2} + \\frac{\\left(S^2_{y}/n_{y}\\right)^2}{n_{y}+1} } - 2  $$\n",
        "\n",
        "> 3. Si no sabemos la procedencia distribucional de las muestras, pero **$n$ es suficientemente grande $(n\\geq 30)$**, la estadística de prueba adecuada es\n",
        "$$ Z = \\frac{\\left(\\overline{X} - \\overline{Y}\\right) - D_{0}}{\\sqrt{\\frac{\\sigma^2_{x}}{n_{x}} + \\frac{\\sigma^2_{y}}{n_{y}}}}  \\sim N(0,1) $$\n",
        "\n",
        "> 4. Si no sabemos la procedencia distribucional de las muestras y **$n$ es pequeño $(n<30)$** debemos aumentar el tamaño de la muestra o usar pruebas no paramétricas."
      ]
    },
    {
      "cell_type": "markdown",
      "metadata": {
        "id": "5_Ic9tMmFWWj"
      },
      "source": [
        "![Resumen dos medias](https://caelum-online-public.s3.amazonaws.com/ESP-1778-estadistica-con-python-test-hipotesis/Resumen_Dif.png)"
      ]
    },
    {
      "cell_type": "markdown",
      "metadata": {
        "id": "YNAYSeWvGhjO"
      },
      "source": [
        "### **Región Critica**"
      ]
    },
    {
      "cell_type": "markdown",
      "metadata": {
        "id": "dgilVjtdFwqU"
      },
      "source": [
        "![Region Critica dos medias](https://caelum-online-public.s3.amazonaws.com/ESP-1778-estadistica-con-python-test-hipotesis/Region_Critica_Dif.png)"
      ]
    },
    {
      "cell_type": "markdown",
      "metadata": {
        "id": "rgWzZo8kHqLt"
      },
      "source": [
        "### **$p$-valor**"
      ]
    },
    {
      "cell_type": "markdown",
      "metadata": {
        "id": "Tl_o4UkRHwuQ"
      },
      "source": [
        "<font color='red'>Puntos importantes</font>\n",
        "\n",
        "Podemos decidir si rechazamos o no $H_0$ usando dos criterios:\n",
        "> 1. Si la Estadística de prueba $(Z \\, \\textrm{o}\\, T)$  cae en la región de rechazo, entonces rechazamos $H_0$. \n",
        "> 2. Si $p$-valor $\\leq \\alpha$ rechazamos $H_0$. Asuma que $W$ es una estadística de prueba ($Z$ o $T$) cualquiera, entonces\n",
        ">- Prueba <font color='red'>bilateral $(H_1: \\mu_{x} - \\mu_{y} \\neq D_0)$</font>\n",
        "\n",
        "$$p-\\textrm{valor}= 2\\times P(W \\geq Z) = 2\\times [1-P(W < Z) ] $$.\n",
        "\n",
        ">- Prueba <font color='red'>Unilateral a derecha $(H_1: \\mu_{x} - \\mu_{y} > D_0)$</font>\n",
        "\n",
        "$$p-\\textrm{valor}= P(W \\geq Z)= 1-P(W < Z)$$\n",
        "\n",
        ">- Prueba <font color='red'>Unilateral a izquierda $(H_1:\\mu_{x} - \\mu_{y} < D_0)$</font> \n",
        "\n",
        "$$p-\\textrm{valor}= P(W \\leq Z)$$."
      ]
    },
    {
      "cell_type": "markdown",
      "metadata": {
        "id": "IEHa9ZC_psl8"
      },
      "source": [
        "# <font color=green>5. PRUEBAS CHI-CUADRADO</font>\n",
        "***"
      ]
    },
    {
      "cell_type": "markdown",
      "metadata": {
        "id": "Rh4JPNOBYiTA"
      },
      "source": [
        "Tenemos dos tipos de pruebas Chi-Cuadrado\n",
        "> 1. Prueba de **bondad de ajuste**. \\\\\n",
        "Se compara a la distribución observada de los datos con una distribución que se espera en los datos.\n",
        "> 2. Prueba de **independencia**. \\\\\n",
        "El objetivo es verificar si dos variables cuantitativas son o no independientes."
      ]
    },
    {
      "cell_type": "markdown",
      "metadata": {
        "id": "tY6uW2psWiXZ"
      },
      "source": [
        "## **Prueba de bondad de ajuste** \n",
        "\n"
      ]
    },
    {
      "cell_type": "markdown",
      "metadata": {
        "id": "qRMbY4cMaQYn"
      },
      "source": [
        "La prueba de bondad de ajuste chi-cuadrado $(\\chi^2)$ prueba la hipótesis nula de que no hay diferencia entre las frecuencias observadas de un evento dado y las frecuencias que realmente se esperan para ese evento."
      ]
    },
    {
      "cell_type": "markdown",
      "metadata": {
        "id": "AF5oS4_ZaIQD"
      },
      "source": [
        "**Problema**\n",
        "\n",
        "Antes de cada partido del campeonato nacional de fútbol, ​​se deben revisar las monedas utilizadas por los árbitros para asegurarse de que no estan sesgadas, es decir, que no tiendan a un resultado determinado. \n",
        "Para ello, se debe realizar una prueba sencilla antes de cada partido. Esta prueba consiste en lanzar la moneda del juego **50 veces** y contar las frecuencias de las **CARAS** y de las **CRUCES** obtenidas. En la siguiente tabla se muestran los resultados obtenidos en el experimento:\n",
        "\n",
        "||CARA|CRUZ|\n",
        "|-|-|-|\n",
        "|Observado|17|33|\n",
        "|Esperado|25|25|\n",
        "\n",
        "Con un **nivel de significancia del 5%**, ¿es posible decir que la moneda no es honesta, o sea, que es más probable que caiga con la **CARA** volteada para arriba?"
      ]
    },
    {
      "cell_type": "markdown",
      "metadata": {
        "id": "pUaVFELsagCd"
      },
      "source": [
        "<font color='red'> Aqui el objetivo es verificar si los resultados del experimento indican que la distribución del número caras (o cruces) es binomial con probabilidad de éxito $0,5$.</font>"
      ]
    },
    {
      "cell_type": "markdown",
      "metadata": {
        "id": "LF1BCVoCkwgD"
      },
      "source": [
        "Si denotamos por \\\\\n",
        "\n",
        "<font color='red'>$f_{cara}$</font> $\\Rightarrow$ la frecuencia que sale  <font color='red'>cara</font>,\n",
        "\n",
        "<font color='blue'>$f_{cruz}$</font> $\\Rightarrow$ la frecuencia que sale <font color='blue'>cruz</font>,\n",
        "\n",
        "podemos plantear las hipótesis como sigue\n",
        "\n",
        "$\n",
        "\\begin{cases}\n",
        "H_0: f_{cara} = f_{cruce} \\,  \\\\\n",
        "H_1: f_{cara} \\neq f_{cruce}\n",
        "\\end{cases}\n",
        "$\n",
        "**o equivalentemente** \n",
        "$\n",
        "\\begin{cases}\n",
        "H_0:p_{caras}=p_{0i} \\\\\n",
        "H_1:p_{caras}\\neq p_{0i} \n",
        "\\end{cases}\n",
        "$\n",
        "\n",
        "en que $p_{cara}$ representa la probabilidad de que salga cara y $p_{0i}$ es la probabilidad especifica para la categoria $i$, $i=1,\\ldots,k.$ \\\\\n",
        "\n",
        "En este caso <font color='red'>$p_{0i} =  0,5$</font>."
      ]
    },
    {
      "cell_type": "markdown",
      "metadata": {
        "id": "d5z2sEztWsEY"
      },
      "source": [
        "**Datos del problema**\n"
      ]
    },
    {
      "cell_type": "code",
      "metadata": {
        "id": "fnCxX5-bWxpD"
      },
      "source": [
        "\n"
      ],
      "execution_count": null,
      "outputs": []
    },
    {
      "cell_type": "markdown",
      "metadata": {
        "id": "oGcpPFDvpY7V"
      },
      "source": [
        "<font color='red'>Observación</font>\n",
        "\n",
        "$f^{esp}_{i} = n\\times p_{0i}$,  $i=1,\\ldots,k$.\n",
        "\n",
        "Tenemos que $k=2$, $n=50$ y $p_{0i}=0,50$, luego\n",
        "\n",
        "$f^{esp}_{1} = 50 \\times 0.50 = 25$ \\\\\n",
        "$f^{esp}_{2} = 50 \\times 0.50 = 25$\n"
      ]
    },
    {
      "cell_type": "markdown",
      "metadata": {
        "id": "gGuftxPXXN-F"
      },
      "source": [
        "#### Haciendo cálculos"
      ]
    },
    {
      "cell_type": "markdown",
      "metadata": {
        "id": "0feURobXX4Cl"
      },
      "source": [
        "**Paso 1: Establecer las hipótesis $H_0$ y $H_1$**\n",
        "\n",
        "$H_0: f_{cara} = f_{cruce}$  \\\\\n",
        "\n",
        "$H_1:  f_{cara} \\neq f_{cruce}$ \n",
        "\n",
        "siendo $f_{cara}$ la frecuencia de las caras y $f_{cruce}$ la frecuencia de las cruces."
      ]
    },
    {
      "cell_type": "markdown",
      "metadata": {
        "id": "Pr68xac6YmzW"
      },
      "source": [
        "**Paso 2: Fijar el nivel de significancia $\\alpha$ de la prueba**\n",
        "\n",
        "$\\alpha =0.05$"
      ]
    },
    {
      "cell_type": "markdown",
      "metadata": {
        "id": "g0TmxThDY0Gp"
      },
      "source": [
        "**Paso 3: Estadística de Prueba**\n",
        "\n",
        "$$ \\chi^{2} = \\sum\\limits_{i=1}^{k}\\frac{\\left(f^{obs}_{i}-f^{esp}_{i}\\right)^2}{f^{esp}_{i}}$$"
      ]
    },
    {
      "cell_type": "code",
      "metadata": {
        "id": "q2EAWw7x0pB_"
      },
      "source": [
        ""
      ],
      "execution_count": null,
      "outputs": []
    },
    {
      "cell_type": "markdown",
      "metadata": {
        "id": "jVbuySpUaaFu"
      },
      "source": [
        "**Paso 4: Determinar la región crítica**"
      ]
    },
    {
      "cell_type": "markdown",
      "metadata": {
        "id": "xwNzkNXTG4d6"
      },
      "source": [
        "![Region Critica Moneda](https://caelum-online-public.s3.amazonaws.com/ESP-1778-estadistica-con-python-test-hipotesis/Region_Critica_Moneda.png)"
      ]
    },
    {
      "cell_type": "markdown",
      "metadata": {
        "id": "Zr546tKwlRFa"
      },
      "source": [
        "Obteniendo $\\chi^{2}_{\\alpha}$"
      ]
    },
    {
      "cell_type": "markdown",
      "metadata": {
        "id": "GZG3-rH1ahkk"
      },
      "source": [
        "https://docs.scipy.org/doc/scipy/reference/generated/scipy.stats.chi.html"
      ]
    },
    {
      "cell_type": "code",
      "metadata": {
        "id": "URgJmw0Naq2r"
      },
      "source": [
        ""
      ],
      "execution_count": null,
      "outputs": []
    },
    {
      "cell_type": "code",
      "metadata": {
        "id": "FAY5_dhKH2oE"
      },
      "source": [
        ""
      ],
      "execution_count": null,
      "outputs": []
    },
    {
      "cell_type": "code",
      "metadata": {
        "id": "GoyklMwc0xjg"
      },
      "source": [
        ""
      ],
      "execution_count": null,
      "outputs": []
    },
    {
      "cell_type": "code",
      "metadata": {
        "id": "b-brTe6WFAI-"
      },
      "source": [
        ""
      ],
      "execution_count": null,
      "outputs": []
    },
    {
      "cell_type": "markdown",
      "metadata": {
        "id": "uA-zOC7lxmH6"
      },
      "source": [
        "La Región Crítica es como sigue"
      ]
    },
    {
      "cell_type": "markdown",
      "metadata": {
        "id": "D1MxCv95HGNl"
      },
      "source": [
        "![Valor Critico Moneda](https://caelum-online-public.s3.amazonaws.com/ESP-1778-estadistica-con-python-test-hipotesis/Valor_Critico_Moneda.png)"
      ]
    },
    {
      "cell_type": "markdown",
      "metadata": {
        "id": "0yqceVEDr4Y5"
      },
      "source": [
        "**Paso 5: Tomar la decisión y concluir**\n",
        "\n",
        "<font color='red'>¿$\\chi^{2} = 5,12$ está en la Región Crítica?</font> o equivalentemente <font color='red'> ¿ $\\chi^{2} \\geq 3,84$?</font>"
      ]
    },
    {
      "cell_type": "code",
      "metadata": {
        "id": "8AZJiIn300kN"
      },
      "source": [
        ""
      ],
      "execution_count": null,
      "outputs": []
    },
    {
      "cell_type": "markdown",
      "metadata": {
        "id": "PeycmT-Exsjz"
      },
      "source": [
        "Observe que <font color='red'>$\\chi^{2}≥3,84$</font> y por lo tanto hay suficiente evidencia en la muestra para <font color='red'>rechazar $H_0$</font>."
      ]
    },
    {
      "cell_type": "markdown",
      "metadata": {
        "id": "DF-vUk_9Hb8a"
      },
      "source": [
        "![Decision Moneda](https://caelum-online-public.s3.amazonaws.com/ESP-1778-estadistica-con-python-test-hipotesis/Decision_Moneda.png)"
      ]
    },
    {
      "cell_type": "markdown",
      "metadata": {
        "id": "SYgiap6lZAav"
      },
      "source": [
        "<font color='red'> Rechazamos $H_0$ si $p$-valor $\\leq \\alpha$.</font>"
      ]
    },
    {
      "cell_type": "markdown",
      "metadata": {
        "id": "tziXuVVu1PIP"
      },
      "source": [
        "El p-valor se calcula como\n",
        "\n",
        "$p-\\textrm{valor} = P\\left(\\chi^{2}_{(k-1)} \\geq \\chi^{2}_{obs}\\right)$\n"
      ]
    },
    {
      "cell_type": "code",
      "metadata": {
        "id": "rsgCXwWw03vq"
      },
      "source": [
        ""
      ],
      "execution_count": null,
      "outputs": []
    },
    {
      "cell_type": "code",
      "metadata": {
        "id": "BYZrN0To05RV"
      },
      "source": [
        ""
      ],
      "execution_count": null,
      "outputs": []
    },
    {
      "cell_type": "code",
      "metadata": {
        "id": "fSYs6cR705F5"
      },
      "source": [
        ""
      ],
      "execution_count": null,
      "outputs": []
    },
    {
      "cell_type": "markdown",
      "metadata": {
        "id": "tNqNyuGM63L-"
      },
      "source": [
        "Observe que <font color='red'>$p$−valor$\\leq \\alpha$</font>, por lo tanto hay suficiente evidencia en la muestra para <font color='red'>rechazar  $H_0$</font>."
      ]
    },
    {
      "cell_type": "markdown",
      "metadata": {
        "id": "TmGkThUU7S5I"
      },
      "source": [
        "<font color='blue'> **Conclusión:** rechazamos la hipótesis nula ($H_0$) y concluimos que las frecuencias observadas y esperadas son diferentes, es decir, la moneda no es honesta y necesita ser reemplazada. </font> "
      ]
    },
    {
      "cell_type": "markdown",
      "metadata": {
        "id": "wewrYqzTXdlX"
      },
      "source": [
        "#### Usando biblioteca de Phyton"
      ]
    },
    {
      "cell_type": "markdown",
      "metadata": {
        "id": "7IC1VOJh-y7O"
      },
      "source": [
        "<font color='red'> Usando chisquare</font>\n",
        "\n",
        "https://docs.scipy.org/doc/scipy/reference/generated/scipy.stats.chisquare.html"
      ]
    },
    {
      "cell_type": "code",
      "metadata": {
        "id": "qz22QTlG_KuP"
      },
      "source": [
        ""
      ],
      "execution_count": null,
      "outputs": []
    },
    {
      "cell_type": "code",
      "metadata": {
        "id": "xLcKJOzN09Aw"
      },
      "source": [
        ""
      ],
      "execution_count": null,
      "outputs": []
    },
    {
      "cell_type": "code",
      "metadata": {
        "id": "2QFASpJw0-nG"
      },
      "source": [
        ""
      ],
      "execution_count": null,
      "outputs": []
    },
    {
      "cell_type": "code",
      "metadata": {
        "id": "UzdOStoF1AUL"
      },
      "source": [
        ""
      ],
      "execution_count": null,
      "outputs": []
    },
    {
      "cell_type": "markdown",
      "metadata": {
        "id": "c51z_b3DEa2g"
      },
      "source": [
        "Observe que <font color='red'>$p$−valor$\\leq \\alpha$</font>, por lo tanto hay suficiente evidencia en la muestra para <font color='red'>rechazar  $H_0$</font>."
      ]
    },
    {
      "cell_type": "markdown",
      "metadata": {
        "id": "cRLuY1guEe-B"
      },
      "source": [
        "<font color='blue'> **Conclusión:** rechazamos la hipótesis nula ($H_0$) y concluimos que las frecuencias observadas y esperadas son diferentes, es decir, la moneda no es honesta y necesita ser reemplazada. </font>"
      ]
    },
    {
      "cell_type": "markdown",
      "metadata": {
        "id": "uP16gI-gllc0"
      },
      "source": [
        "## **Generalizando**"
      ]
    },
    {
      "cell_type": "markdown",
      "metadata": {
        "id": "ssQ2yA_IlfgX"
      },
      "source": [
        "### **Estadística de prueba**\n",
        "\n",
        "Para evaluar las hipótesis se utiliza la estadística chi-cuadrado:\n",
        "$$ \\chi^{2} = \\sum\\limits_{i=1}^{k}\\frac{\\left(f^{obs}_{i}-f^{esp}_{i}\\right)^2}{f^{esp}_{i}},$$\n",
        "en que\n",
        ">- $f^{obs}_{i}$: es el valor observado en la $i$-esima categoría. \n",
        ">- $f^{esp}_{i}$: es el valor que se espera (bajo $H_0$ cierta) en la $i$-esima categoría y se calcula como sigue $f^{esp}_{i} = n\\times p_{0i}$, $i,\\ldots,k$.\n",
        ">- $k$ es el número de categorías.\n",
        "\n",
        "Asumiendo que $H_0$ es verdadera y para frecuencias observadas y esperadas grandes,  $\\chi^{2} \\sim \\chi^{2}_{(k-1)}$."
      ]
    },
    {
      "cell_type": "markdown",
      "metadata": {
        "id": "Lf0Qp6mJl3QY"
      },
      "source": [
        "### **Region Crítica**"
      ]
    },
    {
      "cell_type": "markdown",
      "metadata": {
        "id": "4H-71HE_H5O2"
      },
      "source": [
        "![Region Critica Chi2](https://caelum-online-public.s3.amazonaws.com/ESP-1778-estadistica-con-python-test-hipotesis/Region_Critica_Chi2.png)"
      ]
    },
    {
      "cell_type": "markdown",
      "metadata": {
        "id": "eqHs_6IYmYfN"
      },
      "source": [
        "### **$p$-valor**\n",
        "El $p$-valor es calculado como:\n",
        "\n",
        "$$p-\\textrm{valor} = P\\left(\\chi^{2}_{(k-1)} \\geq \\chi^{2}_{obs}\\right)$$\n",
        "\n",
        "donde $\\chi^{2}_{obs}$ es el valor de la estadística de prueba $\\chi^{2}$ calculado a partir de los datos. \\\\\n",
        "\n",
        "Recuerde que $H_0$ es rechazada si $p$-valor $\\leq \\alpha$."
      ]
    },
    {
      "cell_type": "markdown",
      "metadata": {
        "id": "aDZtMhr5HAHb"
      },
      "source": [
        "# <font color=green>6. PRUEBAS NO PARAMÉTRICAS</font>\n",
        "***"
      ]
    },
    {
      "cell_type": "markdown",
      "metadata": {
        "id": "upzG15-PWOZn"
      },
      "source": [
        "En las pruebas no paramétricas, no hacemos suposiciones sobre la distribución (de probabilidad) de la que se extraen las observaciones.\n",
        "\n"
      ]
    },
    {
      "cell_type": "markdown",
      "metadata": {
        "id": "uDneDp7sC2xR"
      },
      "source": [
        "Tipos de pruebas no paramétricas:\n",
        "> 1. Prueba de **Wilcoxon** \\\\\n",
        " Se contrasta la hipótesis nula de igualdad de medias de poblaciones dependientes.\n",
        "> 2. Prueba de **Mann-Whitney** \\\\\n",
        "Se contrasta la hipótesis nula de igualdad de medias de poblaciones independientes."
      ]
    },
    {
      "cell_type": "markdown",
      "metadata": {
        "id": "aXp4oWGzY9Zf"
      },
      "source": [
        "## 6.1 **Prueba de Wilcoxon**\n",
        "\n",
        "Comparación de dos poblaciones - Muestras pareadas\n",
        "\n",
        "***"
      ]
    },
    {
      "cell_type": "markdown",
      "metadata": {
        "id": "PUXdBJ9FpsmU"
      },
      "source": [
        "### **Problema**"
      ]
    },
    {
      "cell_type": "markdown",
      "metadata": {
        "id": "DXvJ2JnKpsmU"
      },
      "source": [
        "Un nuevo tratamiento para acabar con el hábito de fumar esta siendo empleado en un grupo de **35 pacientes** voluntarios. **De cada voluntario** sometido a la prueba se obtuvo información sobre la cantidad de cigarrillos consumidos por día **antes** y **después** del final del tratamiento. Asumiendo un **nivel de confianza del 95%** ¿es posible concluir que, después de la aplicación del nuevo tratamiento, hubo un cambio en el habito de fumar en el grupo de pacientes evaluados?\n",
        "\n",
        "\n",
        "\n"
      ]
    },
    {
      "cell_type": "markdown",
      "metadata": {
        "id": "qOSk0kAP_1mI"
      },
      "source": [
        "Si denotamos por \\\\\n",
        "\n",
        "$\\mu_{antes} \\Rightarrow$ la media de cigarrillos consumidos antes del tratamiento,\n",
        "\n",
        "$\\mu_{despues} \\Rightarrow$ la media de cigarrillos consumidos despues del tratamiento,\n",
        "\n",
        "podemos plantear las hipótesis como sigue\n",
        "\n",
        "$\n",
        "\\begin{cases}\n",
        "H_0: \\mu_{antes} = \\mu_{despues} \\,  \\\\\n",
        "H_1: \\mu_{antes} \\neq \\mu_{despues}\n",
        "\\end{cases}\n",
        "$\n"
      ]
    },
    {
      "cell_type": "markdown",
      "metadata": {
        "id": "Qdzy17WCc1K0"
      },
      "source": [
        "**Datos del problema**"
      ]
    },
    {
      "cell_type": "code",
      "metadata": {
        "id": "iuHiWuo0FzQi"
      },
      "source": [
        ""
      ],
      "execution_count": null,
      "outputs": []
    },
    {
      "cell_type": "code",
      "metadata": {
        "id": "GiNLAd-2d0HA"
      },
      "source": [
        ""
      ],
      "execution_count": null,
      "outputs": []
    },
    {
      "cell_type": "code",
      "metadata": {
        "id": "TuqwzjQC1KQN"
      },
      "source": [
        ""
      ],
      "execution_count": null,
      "outputs": []
    },
    {
      "cell_type": "markdown",
      "metadata": {
        "id": "LFgmnGL_dddj"
      },
      "source": [
        "#### Haciendo cálculos"
      ]
    },
    {
      "cell_type": "markdown",
      "metadata": {
        "id": "Yu1m1wLrsoFh"
      },
      "source": [
        "**Paso 1: Establecer las hipótesis $H_0$ y $H_1$**\n",
        "\n",
        "$\\mu_{antes} \\Rightarrow$ la media de cigarrillos consumidos antes del tratamiento,\n",
        "\n",
        "$\\mu_{despues} \\Rightarrow$ la media de cigarrillos consumidos despues del tratamiento.\n",
        "\n",
        "\n",
        "$\n",
        "\\begin{cases}\n",
        "H_0: \\mu_{antes} = \\mu_{despues} \\,  \\\\\n",
        "H_1: \\mu_{antes} \\neq \\mu_{despues}\n",
        "\\end{cases}\n",
        "$\n",
        "\n"
      ]
    },
    {
      "cell_type": "markdown",
      "metadata": {
        "id": "xxirzFR9s9GQ"
      },
      "source": [
        "**Paso 2: Fijar el nivel de  significancia $\\alpha$ de la prueba**\n",
        "\n",
        "$\\alpha=0.05$"
      ]
    },
    {
      "cell_type": "markdown",
      "metadata": {
        "id": "TqzXgkx9tOG3"
      },
      "source": [
        "**Paso 3: Calcular la Estadística de Prueba**\n",
        "\n",
        "$$Z = \\frac{T - \\mu_{T}}{\\sigma_{T}},$$\n",
        "\n",
        "en que $T$ es la menor de las sumas de rangos del mismo signo y \n",
        "$$\\mu_{T} = \\frac{n(n+1)}{4},$$\n",
        "\n",
        "$$ \\sigma_{T} = \\sqrt{\\frac{n(n+1)(2n+1)}{24}}. $$"
      ]
    },
    {
      "cell_type": "markdown",
      "metadata": {
        "id": "Joq6HdrPsKRE"
      },
      "source": [
        "Calculando $T$"
      ]
    },
    {
      "cell_type": "code",
      "metadata": {
        "id": "sPtZM8Pa1O2o"
      },
      "source": [
        ""
      ],
      "execution_count": null,
      "outputs": []
    },
    {
      "cell_type": "code",
      "metadata": {
        "id": "WEIMHkDk1QQF"
      },
      "source": [
        ""
      ],
      "execution_count": null,
      "outputs": []
    },
    {
      "cell_type": "code",
      "metadata": {
        "id": "DFI-yq3l1RjL"
      },
      "source": [
        ""
      ],
      "execution_count": null,
      "outputs": []
    },
    {
      "cell_type": "code",
      "metadata": {
        "id": "XKD7r8AO1S_P"
      },
      "source": [
        ""
      ],
      "execution_count": null,
      "outputs": []
    },
    {
      "cell_type": "code",
      "metadata": {
        "id": "2y9F9AGG1UZ5"
      },
      "source": [
        ""
      ],
      "execution_count": null,
      "outputs": []
    },
    {
      "cell_type": "code",
      "metadata": {
        "id": "NAOVecrK1V7h"
      },
      "source": [
        ""
      ],
      "execution_count": null,
      "outputs": []
    },
    {
      "cell_type": "code",
      "metadata": {
        "id": "X8pWKsQm1Xdm"
      },
      "source": [
        ""
      ],
      "execution_count": null,
      "outputs": []
    },
    {
      "cell_type": "code",
      "metadata": {
        "id": "OdpjUNFf1ZAF"
      },
      "source": [
        ""
      ],
      "execution_count": null,
      "outputs": []
    },
    {
      "cell_type": "code",
      "metadata": {
        "id": "s7BRtgoR1aU2"
      },
      "source": [
        ""
      ],
      "execution_count": null,
      "outputs": []
    },
    {
      "cell_type": "code",
      "metadata": {
        "id": "r7D7__tv1bme"
      },
      "source": [
        ""
      ],
      "execution_count": null,
      "outputs": []
    },
    {
      "cell_type": "code",
      "metadata": {
        "id": "hCOdEnKA1dC1"
      },
      "source": [
        ""
      ],
      "execution_count": null,
      "outputs": []
    },
    {
      "cell_type": "code",
      "metadata": {
        "id": "5nfJMGub1eg0"
      },
      "source": [
        ""
      ],
      "execution_count": null,
      "outputs": []
    },
    {
      "cell_type": "markdown",
      "metadata": {
        "id": "12kw8mYC8VaH"
      },
      "source": [
        "$T$ es la menor de las sumas de rangos del mismo signo"
      ]
    },
    {
      "cell_type": "code",
      "metadata": {
        "id": "bizs0Jz21gSJ"
      },
      "source": [
        ""
      ],
      "execution_count": null,
      "outputs": []
    },
    {
      "cell_type": "markdown",
      "metadata": {
        "id": "vy1tPbbS4hc6"
      },
      "source": [
        "Calculamos $\\mu_{T}$:\n",
        "$$\\mu_{T} = \\frac{n(n+1)}{4},$$\n",
        "\n"
      ]
    },
    {
      "cell_type": "code",
      "metadata": {
        "id": "lU-wMHk31i7o"
      },
      "source": [
        ""
      ],
      "execution_count": null,
      "outputs": []
    },
    {
      "cell_type": "markdown",
      "metadata": {
        "id": "yp4mbCmB4xhd"
      },
      "source": [
        "Calculamos $\\sigma_{T}$\n",
        "$$ \\sigma_{T} = \\sqrt{\\frac{n(n+1)(2n+1)}{24}} $$"
      ]
    },
    {
      "cell_type": "code",
      "metadata": {
        "id": "mDl81Jnb1mDr"
      },
      "source": [
        ""
      ],
      "execution_count": null,
      "outputs": []
    },
    {
      "cell_type": "markdown",
      "metadata": {
        "id": "Q3YdFOaq5tMO"
      },
      "source": [
        "Calculamos $Z$:\n",
        "\n",
        "$$Z = \\frac{T - \\mu_{T}}{\\sigma_{T}}$$"
      ]
    },
    {
      "cell_type": "code",
      "metadata": {
        "id": "9uK4Uw2K1noK"
      },
      "source": [
        ""
      ],
      "execution_count": null,
      "outputs": []
    },
    {
      "cell_type": "markdown",
      "metadata": {
        "id": "FsuI_4aztV7X"
      },
      "source": [
        "**Paso 4: Determinar la región crítica**"
      ]
    },
    {
      "cell_type": "markdown",
      "metadata": {
        "id": "2l-tR-EjIYLM"
      },
      "source": [
        "![Region Critica Bilateral](https://caelum-online-public.s3.amazonaws.com/ESP-1778-estadistica-con-python-test-hipotesis/Region_Critica_Bilateral.png)"
      ]
    },
    {
      "cell_type": "markdown",
      "metadata": {
        "id": "SPzh58A36qxh"
      },
      "source": [
        "Obteniendo $z_{\\alpha/2}$"
      ]
    },
    {
      "cell_type": "code",
      "metadata": {
        "id": "BWWzrlPc8AoH"
      },
      "source": [
        ""
      ],
      "execution_count": null,
      "outputs": []
    },
    {
      "cell_type": "code",
      "metadata": {
        "id": "clDTzMXM1thh"
      },
      "source": [
        ""
      ],
      "execution_count": null,
      "outputs": []
    },
    {
      "cell_type": "markdown",
      "metadata": {
        "id": "HTyTJNTn9r-D"
      },
      "source": [
        "Por lo tanto la región crítica es"
      ]
    },
    {
      "cell_type": "markdown",
      "metadata": {
        "id": "mdA7rbHkI3uI"
      },
      "source": [
        "![Valor Critico Bilateral](https://caelum-online-public.s3.amazonaws.com/ESP-1778-estadistica-con-python-test-hipotesis/Valor_Critico_Bilateral.png)"
      ]
    },
    {
      "cell_type": "markdown",
      "metadata": {
        "id": "BpCNQ35XtYjw"
      },
      "source": [
        "**Paso 5: Tomar la decisión y concluir**"
      ]
    },
    {
      "cell_type": "markdown",
      "metadata": {
        "id": "Nyb3Ibmc-yKe"
      },
      "source": [
        "<font color='red'>¿$Z = -4,80$ está en la Región Crítica?</font> o equivalentemente <font color='red'> ¿ $Z \\geq 1,96$ o $Z\\leq -1,96$?</font>"
      ]
    },
    {
      "cell_type": "code",
      "metadata": {
        "id": "UI-r7Qqs1vqV"
      },
      "source": [
        ""
      ],
      "execution_count": null,
      "outputs": []
    },
    {
      "cell_type": "markdown",
      "metadata": {
        "id": "rCBgoDZ4_iyW"
      },
      "source": [
        "Observe que $Z\\leq -1,96$ y por lo tanto hay suficiente evidencia en la muestra para rechazar $H_0$."
      ]
    },
    {
      "cell_type": "markdown",
      "metadata": {
        "id": "-RfTN3RsJVgk"
      },
      "source": [
        "![Decision Fumar](https://caelum-online-public.s3.amazonaws.com/ESP-1778-estadistica-con-python-test-hipotesis/Decision_Fumar.png)"
      ]
    },
    {
      "cell_type": "markdown",
      "metadata": {
        "id": "QL5i5hDxGLM1"
      },
      "source": [
        "<font color='red'>Rechazamos $H_0$ si $p$-valor $\\leq \\alpha$.</font>"
      ]
    },
    {
      "cell_type": "markdown",
      "metadata": {
        "id": "EkPS0Mu2dia2"
      },
      "source": [
        "#### Usando biblioteca de Phyton"
      ]
    },
    {
      "cell_type": "markdown",
      "metadata": {
        "id": "eKWl7bWVEf3J"
      },
      "source": [
        "https://docs.scipy.org/doc/scipy/reference/generated/scipy.stats.wilcoxon.html"
      ]
    },
    {
      "cell_type": "code",
      "metadata": {
        "id": "jwM0TROsCPfu"
      },
      "source": [
        ""
      ],
      "execution_count": null,
      "outputs": []
    },
    {
      "cell_type": "code",
      "metadata": {
        "id": "K9Ga3yA81yk4"
      },
      "source": [
        ""
      ],
      "execution_count": null,
      "outputs": []
    },
    {
      "cell_type": "code",
      "metadata": {
        "id": "SRTG2OPE1z1s"
      },
      "source": [
        ""
      ],
      "execution_count": null,
      "outputs": []
    },
    {
      "cell_type": "code",
      "metadata": {
        "id": "DH9vHNnw11OS"
      },
      "source": [
        ""
      ],
      "execution_count": null,
      "outputs": []
    },
    {
      "cell_type": "markdown",
      "metadata": {
        "id": "n0gtzn53psmo"
      },
      "source": [
        " <font color='blue'>**Conclusión**: Rechazamos la hipótesis de que no hay diferencia entre grupos, es decir, hay diferencia entre el número promedio de cigarrillos fumados por los pacientes antes y después del tratamiento. Y como se puede comprobar a través del promedio de cigarrillos fumados por día antes (31,86) y después (11,2) del tratamiento, podemos concluir que el tratamiento presentó un resultado satisfactorio.</font>"
      ]
    },
    {
      "cell_type": "markdown",
      "metadata": {
        "id": "afnOz3LfXbl3"
      },
      "source": [
        "### **Generalizando**"
      ]
    },
    {
      "cell_type": "markdown",
      "metadata": {
        "id": "o-wCBNhrXkph"
      },
      "source": [
        "#### **Hipótesis**\n",
        "> Prueba <font color ='red'> Bilateral </font> $\\hspace{2.3 cm}$\n",
        "$\n",
        "\\begin{cases}\n",
        "H_0: \\mu_1 = \\mu_2\\\\\n",
        "H_1: \\mu_1 \\neq \\mu_2\n",
        "\\end{cases}\n",
        "$\n",
        "\n",
        "> Prueba  <font color ='red'>Unilateral a Derecha</font>$\\hspace{0.2 cm}$\n",
        "$\n",
        "\\begin{cases}\n",
        "H_0: \\mu_1 \\leq \\mu_2\\\\\n",
        "H_1: \\mu_1 > \\mu_2\n",
        "\\end{cases}\n",
        "$\n",
        "\n",
        "> Prueba <font color ='red'> Unilateral a Izquierda </font>\n",
        "$\n",
        "\\begin{cases}\n",
        "H_0: \\mu_1 \\geq \\mu_2\\\\\n",
        "H_1: \\mu_1 < \\mu_2\n",
        "\\end{cases}\n",
        "$\n",
        "\n"
      ]
    },
    {
      "cell_type": "markdown",
      "metadata": {
        "id": "0p_bnEcydK4O"
      },
      "source": [
        "#### **Estadística de prueba**\n",
        "\n",
        "$$Z = \\frac{T - \\mu_{T}}{\\sigma_{T}},$$\n",
        "\n",
        "en que $T$ es la menor de las sumas de rangos del mismo signo y \n",
        "\n",
        "$$\\mu_{T} = \\frac{n(n+1)}{4},$$\n",
        "\n",
        "$$ \\sigma_{T} = \\sqrt{\\frac{n(n+1)(2n+1)}{24}}. $$"
      ]
    },
    {
      "cell_type": "markdown",
      "metadata": {
        "id": "N1F0mBZ01nkz"
      },
      "source": [
        "#### **Región Crítica**"
      ]
    },
    {
      "cell_type": "markdown",
      "metadata": {
        "id": "XUE57CgFLZO2"
      },
      "source": [
        "![Region Critica NP](https://caelum-online-public.s3.amazonaws.com/ESP-1778-estadistica-con-python-test-hipotesis/Region_Critica_NP.png)"
      ]
    },
    {
      "cell_type": "markdown",
      "metadata": {
        "id": "cOqJbN2u2drI"
      },
      "source": [
        "#### **$p$-valor**"
      ]
    },
    {
      "cell_type": "markdown",
      "metadata": {
        "id": "lrYx4e6f2iys"
      },
      "source": [
        "Asumiendo que $W$ es una estadística de prueba  cualquiera (calculada bajo $H_0$ cierta), el $p$-valor es calculado como sigue:\n",
        "\n",
        ">- Prueba <font color='red'>Bilateral $(H_1: \\mu_{1} \\neq \\mu_{2})$</font>\n",
        "\n",
        "$$p-\\textrm{valor}= 2\\times P(W \\geq Z) = 2\\times [1-P(W < Z) ] $$.\n",
        "\n",
        ">- Prueba <font color='red'>Unilateral a Derecha $(H_1: \\mu_{1} > \\mu_{2})$</font>\n",
        "\n",
        "$$p-\\textrm{valor}= P(W \\geq Z)= 1-P(W < Z)$$\n",
        "\n",
        ">- Prueba <font color='red'>Unilateral a Izquierda $(H_1: \\mu_{1} < \\mu_{2})$</font> \n",
        "\n",
        "$$p-\\textrm{valor}= P(W \\leq Z)$$."
      ]
    },
    {
      "cell_type": "markdown",
      "metadata": {
        "id": "2SwBzbRTEsxA"
      },
      "source": [
        "## 6.2 **Prueba de Mann-Whitney**\n",
        "\n",
        "Comparación de dos poblaciones - Muestras independientes\n",
        "\n",
        "***"
      ]
    },
    {
      "cell_type": "markdown",
      "metadata": {
        "id": "8ysS_oEfbDlQ"
      },
      "source": [
        "### **Problema**"
      ]
    },
    {
      "cell_type": "markdown",
      "metadata": {
        "id": "IbP9QKQ3eXZw"
      },
      "source": [
        "En nuestro conjunto de datos de la **Encuesta Nacional por Muestra de Hogares - 2015** tenemos los ingresos de los jefes de hogar. Un problema bastante conocido en Brasil es la **desigualdad de ingresos**, especialmente entre hombres y mujeres. \n",
        "\n",
        "Dos muestras al azar, uno de **6 hombres** y uno de **8 mujeres**, fueron seleccionados en nuestro conjunto de datos. Para probar esta desigualdad, **pruebe la igualdad de medias entre estas dos muestras con un nivel de significancia del 5%**"
      ]
    },
    {
      "cell_type": "markdown",
      "metadata": {
        "id": "gLQ2tJMQyuMT"
      },
      "source": [
        "Si denotamos por \\\\\n",
        "<font color='blue'> $\\mu_m$ </font> $\\Rightarrow$ el ingreso medio de los jefes del hogar de género <font color='blue'>femenino</font>. \\\\\n",
        "<font color='red'>$\\mu_h$</font> $\\Rightarrow$ el ingreso medio de los jefes del hogar de género <font color='red'>masculino</font>, \\\\\n",
        "\n",
        "las hipótesis que queremos probar son\n",
        "$\n",
        "\\begin{cases}\n",
        "H_0: \\mu_m \\geq \\mu_h\\\\\n",
        "H_1: \\mu_m < \\mu_h\n",
        "\\end{cases}\n",
        "$"
      ]
    },
    {
      "cell_type": "markdown",
      "metadata": {
        "id": "saZF87iFruTd"
      },
      "source": [
        "**Seleccionando las muestras**"
      ]
    },
    {
      "cell_type": "code",
      "metadata": {
        "id": "i4pi3ID_nSJ7"
      },
      "source": [
        ""
      ],
      "execution_count": null,
      "outputs": []
    },
    {
      "cell_type": "code",
      "metadata": {
        "id": "hIinz7q8nVM6"
      },
      "source": [
        ""
      ],
      "execution_count": null,
      "outputs": []
    },
    {
      "cell_type": "code",
      "metadata": {
        "id": "te1ApqYo17Z1"
      },
      "source": [
        ""
      ],
      "execution_count": null,
      "outputs": []
    },
    {
      "cell_type": "code",
      "metadata": {
        "id": "E2QYpx5B184x"
      },
      "source": [
        ""
      ],
      "execution_count": null,
      "outputs": []
    },
    {
      "cell_type": "markdown",
      "metadata": {
        "id": "MXsj7CBar2kq"
      },
      "source": [
        "**Datos del problema**"
      ]
    },
    {
      "cell_type": "code",
      "metadata": {
        "id": "MUAeYiP9nf2b"
      },
      "source": [
        ""
      ],
      "execution_count": null,
      "outputs": []
    },
    {
      "cell_type": "markdown",
      "metadata": {
        "id": "D8HkIU45hsVi"
      },
      "source": [
        "#### Haciendo cálculos"
      ]
    },
    {
      "cell_type": "markdown",
      "metadata": {
        "id": "BGCdIBXCu4lD"
      },
      "source": [
        "**Paso 1: Establecer las hipótesis $H_0$ y $H_1$**\n",
        "\n",
        "<font color='blue'> $\\mu_m$ </font> $\\Rightarrow$ el ingreso medio de los jefes del hogar de género <font color='blue'>femenino</font>. \\\\\n",
        "<font color='red'>$\\mu_h$</font> $\\Rightarrow$ el ingreso medio de los jefes del hogar de género <font color='red'>masculino</font>. \\\\\n",
        "\n",
        "$\n",
        "\\begin{cases}\n",
        "H_0: \\mu_m = \\mu_h \\\\\n",
        "H_1: \\mu_m < \\mu_h\n",
        "\\end{cases}\n",
        "$\n"
      ]
    },
    {
      "cell_type": "markdown",
      "metadata": {
        "id": "DI0Zq3zI0Kkl"
      },
      "source": [
        "**Paso 2: Fijar el nivel de  significancia $\\alpha$ de la prueba**\n",
        "\n",
        "$\\alpha=0.05$\n"
      ]
    },
    {
      "cell_type": "markdown",
      "metadata": {
        "id": "qA-CstOO0PBX"
      },
      "source": [
        "**Paso 3: Calcular la Estadística de Prueba**"
      ]
    },
    {
      "cell_type": "markdown",
      "metadata": {
        "id": "o-bEPxqp0w-A"
      },
      "source": [
        "$$Z = \\frac{u - \\mu{(u)}}{\\sigma{(u)}},$$\n",
        "\n",
        "donde \n",
        "\n",
        "> $u = min(u_1, u_2)$\n",
        ">- $u_1 = n_1 \\times n_2 + \\frac{n_1 \\times (n_1 + 1)}{2} - R_1$\n",
        ">- $u_2 = n_1 \\times n_2 + \\frac{n_2 \\times (n_2 + 1)}{2} - R_2$\n",
        ">- $n_1$ = nº de elementos del grupo más pequeño (hombres)\n",
        ">- $n_2$ = nº de elementos del grupo más grande (mujeres)\n",
        ">- $R_1$ = suma de los rangos del grupo $n_1$\n",
        ">- $R_2$ = suma de los rangos del grupo $n_2$\n",
        "\n",
        "> $\\mu{(u)} = \\frac{n_1 \\times n_2}{2}$\n",
        "\n",
        "> $\\sigma{(u)} = \\sqrt{\\frac{n_1 \\times n_2 \\times (n_1 + n_2 + 1)}{12}}$"
      ]
    },
    {
      "cell_type": "markdown",
      "metadata": {
        "id": "6Wu_VeQP0871"
      },
      "source": [
        "Calculando $R_1$ y $R_2$"
      ]
    },
    {
      "cell_type": "code",
      "metadata": {
        "id": "Ty6Lzdy52BFO"
      },
      "source": [
        ""
      ],
      "execution_count": null,
      "outputs": []
    },
    {
      "cell_type": "code",
      "metadata": {
        "id": "eVC0PhPI2COu"
      },
      "source": [
        ""
      ],
      "execution_count": null,
      "outputs": []
    },
    {
      "cell_type": "code",
      "metadata": {
        "id": "Rm89oaGJ2D6X"
      },
      "source": [
        ""
      ],
      "execution_count": null,
      "outputs": []
    },
    {
      "cell_type": "code",
      "metadata": {
        "id": "-4g1k6yG2Fen"
      },
      "source": [
        ""
      ],
      "execution_count": null,
      "outputs": []
    },
    {
      "cell_type": "code",
      "metadata": {
        "id": "PdF-NxOd2GsU"
      },
      "source": [
        ""
      ],
      "execution_count": null,
      "outputs": []
    },
    {
      "cell_type": "code",
      "metadata": {
        "id": "MQYmEHsM2IBd"
      },
      "source": [
        ""
      ],
      "execution_count": null,
      "outputs": []
    },
    {
      "cell_type": "code",
      "metadata": {
        "id": "Zg7EVQHk2Jjs"
      },
      "source": [
        ""
      ],
      "execution_count": null,
      "outputs": []
    },
    {
      "cell_type": "code",
      "metadata": {
        "id": "mO3AlTmY2K2T"
      },
      "source": [
        ""
      ],
      "execution_count": null,
      "outputs": []
    },
    {
      "cell_type": "code",
      "metadata": {
        "id": "9mRGkxgV2MOE"
      },
      "source": [
        ""
      ],
      "execution_count": null,
      "outputs": []
    },
    {
      "cell_type": "markdown",
      "metadata": {
        "id": "MLt3CcDFKzOe"
      },
      "source": [
        "$R_1$: suma de los rangos del grupo $n_1$ (hombres) \\\\\n",
        "$R_2$: suma de los rangos del grupo $n_2$ (mujeres)"
      ]
    },
    {
      "cell_type": "code",
      "metadata": {
        "id": "Yx82TZdK2OSI"
      },
      "source": [
        ""
      ],
      "execution_count": null,
      "outputs": []
    },
    {
      "cell_type": "code",
      "metadata": {
        "id": "_u7cUds32QBL"
      },
      "source": [
        ""
      ],
      "execution_count": null,
      "outputs": []
    },
    {
      "cell_type": "code",
      "metadata": {
        "id": "ZuptBy-o2QzV"
      },
      "source": [
        ""
      ],
      "execution_count": null,
      "outputs": []
    },
    {
      "cell_type": "markdown",
      "metadata": {
        "id": "qwDwkAF4LdQb"
      },
      "source": [
        "Calculando  $u = min(u_1, u_2)$\n",
        ">- $u_1 = n_1 \\times n_2 + \\frac{n_1 \\times (n_1 + 1)}{2} - R_1$\n",
        ">- $u_2 = n_1 \\times n_2 + \\frac{n_2 \\times (n_2 + 1)}{2} - R_2$"
      ]
    },
    {
      "cell_type": "code",
      "metadata": {
        "id": "w5cyTv462Syp"
      },
      "source": [
        ""
      ],
      "execution_count": null,
      "outputs": []
    },
    {
      "cell_type": "code",
      "metadata": {
        "id": "Jp1dHDR22Wbs"
      },
      "source": [
        ""
      ],
      "execution_count": null,
      "outputs": []
    },
    {
      "cell_type": "code",
      "metadata": {
        "id": "gr7JZnp22Yk1"
      },
      "source": [
        ""
      ],
      "execution_count": null,
      "outputs": []
    },
    {
      "cell_type": "markdown",
      "metadata": {
        "id": "-SZn9nfGMyxw"
      },
      "source": [
        "Calculando \n",
        "$$\\mu{(u)} = \\frac{n_1 \\times n_2}{2}$$\n",
        "\n"
      ]
    },
    {
      "cell_type": "code",
      "metadata": {
        "id": "alSz_5_l2aTV"
      },
      "source": [
        ""
      ],
      "execution_count": null,
      "outputs": []
    },
    {
      "cell_type": "markdown",
      "metadata": {
        "id": "q8yw6cT4M8C1"
      },
      "source": [
        "Calculando\n",
        "$$\\sigma{(u)} = \\sqrt{\\frac{n_1 \\times n_2 \\times (n_1 + n_2 + 1)}{12}}$$"
      ]
    },
    {
      "cell_type": "code",
      "metadata": {
        "id": "rzVyiwvp2bxG"
      },
      "source": [
        ""
      ],
      "execution_count": null,
      "outputs": []
    },
    {
      "cell_type": "markdown",
      "metadata": {
        "id": "e-MFtxJSOBBw"
      },
      "source": [
        "Calculamos \n",
        "$$Z = \\frac{u - \\mu{(u)}}{\\sigma{(u)}}$$"
      ]
    },
    {
      "cell_type": "code",
      "metadata": {
        "id": "M7M_deQ72dso"
      },
      "source": [
        ""
      ],
      "execution_count": null,
      "outputs": []
    },
    {
      "cell_type": "code",
      "metadata": {
        "id": "zKLXNBzn2dbg"
      },
      "source": [
        ""
      ],
      "execution_count": null,
      "outputs": []
    },
    {
      "cell_type": "markdown",
      "metadata": {
        "id": "wszrX1MV0Rrv"
      },
      "source": [
        "**Paso 4: Determinar la región crítica**"
      ]
    },
    {
      "cell_type": "markdown",
      "metadata": {
        "id": "0rr3xzblMUrL"
      },
      "source": [
        "![Region Critica Salario](https://caelum-online-public.s3.amazonaws.com/ESP-1778-estadistica-con-python-test-hipotesis/Region_Critica_Salario.png)"
      ]
    },
    {
      "cell_type": "markdown",
      "metadata": {
        "id": "XlOpnFwEu2JW"
      },
      "source": [
        "Obteniendo $z_\\alpha$"
      ]
    },
    {
      "cell_type": "code",
      "metadata": {
        "id": "a48wO2hjmpT4"
      },
      "source": [
        ""
      ],
      "execution_count": null,
      "outputs": []
    },
    {
      "cell_type": "code",
      "metadata": {
        "id": "Y9Lfzmso2iLj"
      },
      "source": [
        ""
      ],
      "execution_count": null,
      "outputs": []
    },
    {
      "cell_type": "markdown",
      "metadata": {
        "id": "zOZ0SYoGMi7e"
      },
      "source": [
        "![Valor Critico Salario](https://caelum-online-public.s3.amazonaws.com/ESP-1778-estadistica-con-python-test-hipotesis/Valor_Critico_Salario.png)"
      ]
    },
    {
      "cell_type": "markdown",
      "metadata": {
        "id": "q3HEK2zk0URv"
      },
      "source": [
        "**Paso 5: Tomar la decisión y concluir**"
      ]
    },
    {
      "cell_type": "markdown",
      "metadata": {
        "id": "VgFS0yocia_d"
      },
      "source": [
        "<font color='red'>¿$Z = -2,65$ está en la Región Crítica?</font> o equivalentemente <font color='red'> ¿ $Z \\geq 1,64$ o $Z \\leq -1,64$?</font>"
      ]
    },
    {
      "cell_type": "code",
      "metadata": {
        "id": "G9yRACES2kXF"
      },
      "source": [
        ""
      ],
      "execution_count": null,
      "outputs": []
    },
    {
      "cell_type": "markdown",
      "metadata": {
        "id": "M44LXuCaiuXj"
      },
      "source": [
        "Observe que $Z\\leq -1,64$ y por lo tanto hay suficiente evidencia en la muestra para rechazar $H_0$."
      ]
    },
    {
      "cell_type": "markdown",
      "metadata": {
        "id": "RZcoudktM19a"
      },
      "source": [
        "![Decision Salario](https://caelum-online-public.s3.amazonaws.com/ESP-1778-estadistica-con-python-test-hipotesis/Decision_Salario.png)"
      ]
    },
    {
      "cell_type": "markdown",
      "metadata": {
        "id": "_pw9GWNKi6uG"
      },
      "source": [
        "<font color='red'>Rechazamos $H_0$ si $p$-valor $\\leq \\alpha$.</font>\n"
      ]
    },
    {
      "cell_type": "markdown",
      "metadata": {
        "id": "HTyVpC8jjBFl"
      },
      "source": [
        "Recordemos que cuando la prueba es unilateral a izquierda $(H_1: \\mu_{m} < \\mu_{h})$ el $p$-valor se calcula como \n",
        "\n",
        "$$p-\\textrm{valor}= P(W \\leq Z)$$\n"
      ]
    },
    {
      "cell_type": "code",
      "metadata": {
        "id": "qEKy5mMljXzw"
      },
      "source": [
        ""
      ],
      "execution_count": null,
      "outputs": []
    },
    {
      "cell_type": "code",
      "metadata": {
        "id": "9S45vHQE2nOr"
      },
      "source": [
        ""
      ],
      "execution_count": null,
      "outputs": []
    },
    {
      "cell_type": "code",
      "metadata": {
        "id": "gKHoDV7Q2oo8"
      },
      "source": [
        ""
      ],
      "execution_count": null,
      "outputs": []
    },
    {
      "cell_type": "markdown",
      "metadata": {
        "id": "-XUmVLB2VClr"
      },
      "source": [
        "<font color='blue'>**Conclusión:** Rechazamos la hipótesis de que no existe diferencia entre los dos grupos, por lo tanto concluimos que el ingreso promedio de las mujeres jefas de hogar es menor que el ingreso promedio de los hombres jefes de hogar. Esto confirma la alegación de la desigualdad de ingresos entre los sexos.</font>"
      ]
    },
    {
      "cell_type": "markdown",
      "metadata": {
        "id": "F_vhqhuBhzE4"
      },
      "source": [
        "#### Usando biblioteca de Phyton\n",
        "\n",
        "\n",
        "https://docs.scipy.org/doc/scipy/reference/generated/scipy.stats.mannwhitneyu.html"
      ]
    },
    {
      "cell_type": "code",
      "metadata": {
        "id": "k_MCXHjIpsmt",
        "scrolled": true
      },
      "source": [
        ""
      ],
      "execution_count": null,
      "outputs": []
    },
    {
      "cell_type": "code",
      "metadata": {
        "id": "M_HkzTVP2rMM"
      },
      "source": [
        ""
      ],
      "execution_count": null,
      "outputs": []
    },
    {
      "cell_type": "code",
      "metadata": {
        "id": "wRWebq1G2sy1"
      },
      "source": [
        ""
      ],
      "execution_count": null,
      "outputs": []
    },
    {
      "cell_type": "code",
      "metadata": {
        "id": "0F7fZ1Cp2uj3"
      },
      "source": [
        ""
      ],
      "execution_count": null,
      "outputs": []
    },
    {
      "cell_type": "markdown",
      "metadata": {
        "id": "iNP54sE_bnap"
      },
      "source": [
        "<font color='blue'>**Conclusión:** Rechazamos la hipótesis de que no existe diferencia entre los dos grupos, por lo tanto concluimos que el ingreso promedio de las mujeres jefas de hogar es menor que el ingreso promedio de los hombres jefes de hogar. Esto confirma la alegación de la desigualdad de ingresos entre los sexos.</font>"
      ]
    },
    {
      "cell_type": "markdown",
      "metadata": {
        "id": "fyP1BNAMbJLX"
      },
      "source": [
        "### **Generalizando**"
      ]
    },
    {
      "cell_type": "markdown",
      "metadata": {
        "id": "d8P7BaCrY-9x"
      },
      "source": [
        "#### **Hipótesis**\n",
        "> Prueba <font color ='red'> bilateral </font> $\\hspace{2.3 cm}$\n",
        "$\n",
        "\\begin{cases}\n",
        "H_0: \\mu_1 = \\mu_2\\\\\n",
        "H_1: \\mu_1 \\neq \\mu_2\n",
        "\\end{cases}\n",
        "$\n",
        "\n",
        "> Prueba  <font color ='red'>Unilateral a derecha</font>$\\hspace{0.2 cm}$\n",
        "$\n",
        "\\begin{cases}\n",
        "H_0: \\mu_1 \\leq \\mu_2\\\\\n",
        "H_1: \\mu_1 > \\mu_2\n",
        "\\end{cases}\n",
        "$\n",
        "\n",
        "> Prueba <font color ='red'> Unilateral a Izquierda </font>\n",
        "$\n",
        "\\begin{cases}\n",
        "H_0: \\mu_1 \\geq \\mu_2\\\\\n",
        "H_1: \\mu_1 < \\mu_2\n",
        "\\end{cases}\n",
        "$"
      ]
    },
    {
      "cell_type": "markdown",
      "metadata": {
        "id": "q2g0SBB9ZEST"
      },
      "source": [
        "#### **Estadística de prueba**\n",
        "La estadística de la prueba es\n",
        "\n",
        "$$Z = \\frac{u - \\mu{(u)}}{\\sigma{(u)}} \\stackrel{aprox}{\\sim} N(0,1),$$\n",
        "\n",
        "donde \n",
        "\n",
        "> $u = min(u_1, u_2)$ \n",
        ">- $u_1 = n_1 \\times n_2 + \\frac{n_1 \\times (n_1 + 1)}{2} - R_1$\n",
        ">- $u_2 = n_1 \\times n_2 + \\frac{n_2 \\times (n_2 + 1)}{2} - R_2$\n",
        ">- $n_1$ = nº de elementos del grupo mas pequeño (hombres)\n",
        ">- $n_2$ = nº de elementos del grupo más grande (mujeres)\n",
        ">- $R_1$ = suma de los rangos del grupo $n_1$\n",
        ">- $R_2$ = suma de los rangos del grupo $n_2$\n",
        "\n",
        "$u \\stackrel{aprox}{\\sim} N\\left(\\mu(u), \\sigma(u)\\right)$\n",
        "\n",
        "> $\\mu{(u)} = \\frac{n_1 \\times n_2}{2}$\n",
        "\n",
        "> $\\sigma{(u)} = \\sqrt{\\frac{n_1 \\times n_2 \\times (n_1 + n_2 + 1)}{12}}$"
      ]
    },
    {
      "cell_type": "markdown",
      "metadata": {
        "id": "BjTd1qNFZYWy"
      },
      "source": [
        "#### **Región Crítica**"
      ]
    },
    {
      "cell_type": "markdown",
      "metadata": {
        "id": "Bxd6MTUiNVzQ"
      },
      "source": [
        "![Region Critica NP](https://caelum-online-public.s3.amazonaws.com/ESP-1778-estadistica-con-python-test-hipotesis/Region_Critica_NP.png)"
      ]
    },
    {
      "cell_type": "markdown",
      "metadata": {
        "id": "8-S66g2SaFMr"
      },
      "source": [
        "#### **$p$-valor**"
      ]
    },
    {
      "cell_type": "markdown",
      "metadata": {
        "id": "TBFpRkIdaLI8"
      },
      "source": [
        "Asumiendo que $W$ es una estadística de prueba  cualquiera (calculada bajo $H_0$ cierta), el $p$-valor es calculado como sigue:\n",
        "\n",
        ">- Prueba <font color='red'>bilateral $(H_1: \\mu_{1} \\neq \\mu_{2})$</font>\n",
        "\n",
        "$$p-\\textrm{valor}= 2\\times P(W \\geq Z) = 2\\times [1-P(W < Z) ] $$.\n",
        "\n",
        ">- Prueba <font color='red'>Unilateral a derecha $(H_1: \\mu_{1} > \\mu_{2})$</font>\n",
        "\n",
        "$$p-\\textrm{valor}= P(W \\geq Z)= 1-P(W < Z)$$\n",
        "\n",
        ">- Prueba <font color='red'>Unilateral a izquierda $(H_1: \\mu_{1} < \\mu_{2})$</font> \n",
        "\n",
        "$$p-\\textrm{valor}= P(W \\leq Z)$$."
      ]
    },
    {
      "cell_type": "code",
      "metadata": {
        "id": "82wo1sTaZ1IK"
      },
      "source": [
        ""
      ],
      "execution_count": null,
      "outputs": []
    }
  ]
}